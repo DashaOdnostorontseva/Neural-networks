{
 "cells": [
  {
   "attachments": {},
   "cell_type": "markdown",
   "metadata": {},
   "source": [
    "Краулим по 700 фотографий перчаток, джинсов и носков для датасета."
   ]
  },
  {
   "cell_type": "code",
   "execution_count": 1,
   "metadata": {},
   "outputs": [],
   "source": [
    "from icrawler.builtin import GoogleImageCrawler, BaiduImageCrawler, BingImageCrawler\n",
    "import glob"
   ]
  },
  {
   "cell_type": "code",
   "execution_count": 2,
   "metadata": {},
   "outputs": [
    {
     "name": "stderr",
     "output_type": "stream",
     "text": [
      "2023-02-28 16:34:05,680 - INFO - icrawler.crawler - start crawling...\n",
      "2023-02-28 16:34:05,681 - INFO - icrawler.crawler - starting 1 feeder threads...\n",
      "2023-02-28 16:34:05,683 - INFO - icrawler.crawler - starting 1 parser threads...\n",
      "2023-02-28 16:34:05,685 - INFO - icrawler.crawler - starting 1 downloader threads...\n",
      "2023-02-28 16:34:06,185 - INFO - parser - parsing result page https://www.bing.com/images/async?q=gloves&first=0\n",
      "2023-02-28 16:34:06,216 - INFO - downloader - skip downloading file 000001.jpg\n",
      "2023-02-28 16:34:06,221 - INFO - downloader - skip downloading file 000002.jpg\n",
      "2023-02-28 16:34:06,222 - INFO - downloader - skip downloading file 000003.jpg\n",
      "2023-02-28 16:34:06,224 - INFO - downloader - skip downloading file 000004.jpg\n",
      "2023-02-28 16:34:06,225 - INFO - downloader - skip downloading file 000005.jpg\n",
      "2023-02-28 16:34:06,226 - INFO - downloader - skip downloading file 000006.jpg\n",
      "2023-02-28 16:34:06,227 - INFO - downloader - skip downloading file 000007.jpg\n",
      "2023-02-28 16:34:06,228 - INFO - downloader - skip downloading file 000008.jpg\n",
      "2023-02-28 16:34:06,229 - INFO - downloader - skip downloading file 000009.jpg\n",
      "2023-02-28 16:34:06,230 - INFO - downloader - skip downloading file 000010.jpg\n",
      "2023-02-28 16:34:06,231 - INFO - downloader - skip downloading file 000011.jpg\n",
      "2023-02-28 16:34:06,233 - INFO - downloader - skip downloading file 000012.jpg\n",
      "2023-02-28 16:34:06,234 - INFO - downloader - skip downloading file 000013.jpg\n",
      "2023-02-28 16:34:06,235 - INFO - downloader - skip downloading file 000014.jpg\n",
      "2023-02-28 16:34:06,236 - INFO - downloader - skip downloading file 000015.jpg\n",
      "2023-02-28 16:34:06,238 - INFO - downloader - skip downloading file 000016.jpg\n",
      "2023-02-28 16:34:06,239 - INFO - downloader - skip downloading file 000017.jpg\n",
      "2023-02-28 16:34:06,240 - INFO - downloader - skip downloading file 000018.jpg\n",
      "2023-02-28 16:34:06,241 - INFO - downloader - skip downloading file 000019.jpg\n",
      "2023-02-28 16:34:06,243 - INFO - downloader - skip downloading file 000020.jpg\n",
      "2023-02-28 16:34:06,245 - INFO - downloader - skip downloading file 000021.jpg\n",
      "2023-02-28 16:34:06,246 - INFO - downloader - skip downloading file 000022.jpg\n",
      "2023-02-28 16:34:06,248 - INFO - downloader - skip downloading file 000023.jpg\n",
      "2023-02-28 16:34:06,249 - INFO - downloader - skip downloading file 000024.jpg\n",
      "2023-02-28 16:34:06,586 - INFO - parser - parsing result page https://www.bing.com/images/async?q=gloves&first=20\n",
      "2023-02-28 16:34:06,635 - INFO - downloader - skip downloading file 000025.jpg\n",
      "2023-02-28 16:34:06,636 - INFO - downloader - skip downloading file 000026.jpg\n",
      "2023-02-28 16:34:06,637 - INFO - downloader - skip downloading file 000027.jpg\n",
      "2023-02-28 16:34:06,639 - INFO - downloader - skip downloading file 000028.jpg\n",
      "2023-02-28 16:34:06,642 - INFO - downloader - skip downloading file 000029.jpg\n",
      "2023-02-28 16:34:06,643 - INFO - downloader - skip downloading file 000030.jpg\n",
      "2023-02-28 16:34:06,645 - INFO - downloader - skip downloading file 000031.jpg\n",
      "2023-02-28 16:34:06,645 - INFO - downloader - skip downloading file 000032.jpg\n",
      "2023-02-28 16:34:06,646 - INFO - downloader - skip downloading file 000033.jpg\n",
      "2023-02-28 16:34:06,648 - INFO - downloader - skip downloading file 000034.jpg\n",
      "2023-02-28 16:34:06,649 - INFO - downloader - skip downloading file 000035.jpg\n",
      "2023-02-28 16:34:06,953 - INFO - parser - parsing result page https://www.bing.com/images/async?q=gloves&first=40\n",
      "2023-02-28 16:34:06,970 - INFO - downloader - skip downloading file 000036.jpg\n",
      "2023-02-28 16:34:06,972 - INFO - downloader - skip downloading file 000037.jpg\n",
      "2023-02-28 16:34:06,973 - INFO - downloader - skip downloading file 000038.jpg\n",
      "2023-02-28 16:34:06,975 - INFO - downloader - skip downloading file 000039.jpg\n",
      "2023-02-28 16:34:06,976 - INFO - downloader - skip downloading file 000040.jpg\n",
      "2023-02-28 16:34:06,978 - INFO - downloader - skip downloading file 000041.jpg\n",
      "2023-02-28 16:34:06,979 - INFO - downloader - skip downloading file 000042.jpg\n",
      "2023-02-28 16:34:06,980 - INFO - downloader - skip downloading file 000043.jpg\n",
      "2023-02-28 16:34:06,981 - INFO - downloader - skip downloading file 000044.jpg\n",
      "2023-02-28 16:34:06,984 - INFO - downloader - skip downloading file 000045.jpg\n",
      "2023-02-28 16:34:06,985 - INFO - downloader - skip downloading file 000046.jpg\n",
      "2023-02-28 16:34:06,987 - INFO - downloader - skip downloading file 000047.jpg\n",
      "2023-02-28 16:34:06,988 - INFO - downloader - skip downloading file 000048.jpg\n",
      "2023-02-28 16:34:06,988 - INFO - downloader - skip downloading file 000049.jpg\n",
      "2023-02-28 16:34:07,247 - INFO - parser - parsing result page https://www.bing.com/images/async?q=gloves&first=60\n",
      "2023-02-28 16:34:07,261 - INFO - downloader - skip downloading file 000050.jpg\n",
      "2023-02-28 16:34:07,263 - INFO - downloader - skip downloading file 000051.jpg\n",
      "2023-02-28 16:34:07,264 - INFO - downloader - skip downloading file 000052.jpg\n",
      "2023-02-28 16:34:07,265 - INFO - downloader - skip downloading file 000053.jpg\n",
      "2023-02-28 16:34:07,266 - INFO - downloader - skip downloading file 000054.jpg\n",
      "2023-02-28 16:34:07,269 - INFO - downloader - skip downloading file 000055.jpg\n",
      "2023-02-28 16:34:07,270 - INFO - downloader - skip downloading file 000056.jpg\n",
      "2023-02-28 16:34:07,272 - INFO - downloader - skip downloading file 000057.jpg\n",
      "2023-02-28 16:34:07,273 - INFO - downloader - skip downloading file 000058.jpg\n",
      "2023-02-28 16:34:07,274 - INFO - downloader - skip downloading file 000059.jpg\n",
      "2023-02-28 16:34:07,528 - INFO - parser - parsing result page https://www.bing.com/images/async?q=gloves&first=80\n",
      "2023-02-28 16:34:07,545 - INFO - downloader - skip downloading file 000060.jpg\n",
      "2023-02-28 16:34:07,546 - INFO - downloader - skip downloading file 000061.jpg\n",
      "2023-02-28 16:34:07,548 - INFO - downloader - skip downloading file 000062.jpg\n",
      "2023-02-28 16:34:07,549 - INFO - downloader - skip downloading file 000063.jpg\n",
      "2023-02-28 16:34:07,550 - INFO - downloader - skip downloading file 000064.jpg\n",
      "2023-02-28 16:34:07,551 - INFO - downloader - skip downloading file 000065.jpg\n",
      "2023-02-28 16:34:07,552 - INFO - downloader - skip downloading file 000066.jpg\n",
      "2023-02-28 16:34:07,555 - INFO - downloader - skip downloading file 000067.jpg\n",
      "2023-02-28 16:34:07,556 - INFO - downloader - skip downloading file 000068.jpg\n",
      "2023-02-28 16:34:07,557 - INFO - downloader - skip downloading file 000069.jpg\n",
      "2023-02-28 16:34:07,558 - INFO - downloader - skip downloading file 000070.jpg\n",
      "2023-02-28 16:34:07,850 - INFO - parser - parsing result page https://www.bing.com/images/async?q=gloves&first=100\n",
      "2023-02-28 16:34:07,866 - INFO - downloader - skip downloading file 000071.jpg\n",
      "2023-02-28 16:34:07,868 - INFO - downloader - skip downloading file 000072.jpg\n",
      "2023-02-28 16:34:07,869 - INFO - downloader - skip downloading file 000073.jpg\n",
      "2023-02-28 16:34:07,872 - INFO - downloader - skip downloading file 000074.jpg\n",
      "2023-02-28 16:34:07,872 - INFO - downloader - skip downloading file 000075.jpg\n",
      "2023-02-28 16:34:07,874 - INFO - downloader - skip downloading file 000076.jpg\n",
      "2023-02-28 16:34:07,876 - INFO - downloader - skip downloading file 000077.jpg\n",
      "2023-02-28 16:34:07,877 - INFO - downloader - skip downloading file 000078.jpg\n",
      "2023-02-28 16:34:07,880 - INFO - downloader - skip downloading file 000079.jpg\n",
      "2023-02-28 16:34:07,880 - INFO - downloader - skip downloading file 000080.jpg\n",
      "2023-02-28 16:34:07,881 - INFO - downloader - skip downloading file 000081.jpg\n",
      "2023-02-28 16:34:08,177 - INFO - parser - parsing result page https://www.bing.com/images/async?q=gloves&first=120\n",
      "2023-02-28 16:34:08,193 - INFO - downloader - skip downloading file 000082.jpg\n",
      "2023-02-28 16:34:08,195 - INFO - downloader - skip downloading file 000083.jpg\n",
      "2023-02-28 16:34:08,196 - INFO - downloader - skip downloading file 000084.jpg\n",
      "2023-02-28 16:34:08,197 - INFO - downloader - skip downloading file 000085.jpg\n",
      "2023-02-28 16:34:08,199 - INFO - downloader - skip downloading file 000086.jpg\n",
      "2023-02-28 16:34:08,201 - INFO - downloader - skip downloading file 000087.jpg\n",
      "2023-02-28 16:34:08,203 - INFO - downloader - skip downloading file 000088.jpg\n",
      "2023-02-28 16:34:08,204 - INFO - downloader - skip downloading file 000089.jpg\n",
      "2023-02-28 16:34:08,205 - INFO - downloader - skip downloading file 000090.jpg\n",
      "2023-02-28 16:34:08,551 - INFO - parser - parsing result page https://www.bing.com/images/async?q=gloves&first=140\n",
      "2023-02-28 16:34:08,566 - INFO - downloader - skip downloading file 000091.jpg\n",
      "2023-02-28 16:34:08,568 - INFO - downloader - skip downloading file 000092.jpg\n",
      "2023-02-28 16:34:08,569 - INFO - downloader - skip downloading file 000093.jpg\n",
      "2023-02-28 16:34:08,569 - INFO - downloader - skip downloading file 000094.jpg\n",
      "2023-02-28 16:34:08,571 - INFO - downloader - skip downloading file 000095.jpg\n",
      "2023-02-28 16:34:08,572 - INFO - downloader - skip downloading file 000096.jpg\n",
      "2023-02-28 16:34:08,573 - INFO - downloader - skip downloading file 000097.jpg\n",
      "2023-02-28 16:34:08,574 - INFO - downloader - skip downloading file 000098.jpg\n",
      "2023-02-28 16:34:08,575 - INFO - downloader - skip downloading file 000099.jpg\n",
      "2023-02-28 16:34:08,577 - INFO - downloader - skip downloading file 000100.jpg\n",
      "2023-02-28 16:34:08,578 - INFO - downloader - skip downloading file 000101.jpg\n",
      "2023-02-28 16:34:08,579 - INFO - downloader - skip downloading file 000102.jpg\n",
      "2023-02-28 16:34:08,581 - INFO - downloader - skip downloading file 000103.jpg\n",
      "2023-02-28 16:34:08,582 - INFO - downloader - skip downloading file 000104.jpg\n",
      "2023-02-28 16:34:08,583 - INFO - downloader - skip downloading file 000105.jpg\n",
      "2023-02-28 16:34:08,584 - INFO - downloader - skip downloading file 000106.jpg\n",
      "2023-02-28 16:34:08,587 - INFO - downloader - skip downloading file 000107.jpg\n",
      "2023-02-28 16:34:08,588 - INFO - downloader - skip downloading file 000108.jpg\n",
      "2023-02-28 16:34:08,589 - INFO - downloader - skip downloading file 000109.jpg\n",
      "2023-02-28 16:34:08,590 - INFO - downloader - skip downloading file 000110.jpg\n",
      "2023-02-28 16:34:08,591 - INFO - downloader - skip downloading file 000111.jpg\n",
      "2023-02-28 16:34:08,884 - INFO - parser - parsing result page https://www.bing.com/images/async?q=gloves&first=160\n",
      "2023-02-28 16:34:08,899 - INFO - downloader - skip downloading file 000112.jpg\n",
      "2023-02-28 16:34:08,900 - INFO - downloader - skip downloading file 000113.jpg\n",
      "2023-02-28 16:34:08,901 - INFO - downloader - skip downloading file 000114.jpg\n",
      "2023-02-28 16:34:08,903 - INFO - downloader - skip downloading file 000115.jpg\n",
      "2023-02-28 16:34:08,903 - INFO - downloader - skip downloading file 000116.jpg\n",
      "2023-02-28 16:34:08,905 - INFO - downloader - skip downloading file 000117.jpg\n",
      "2023-02-28 16:34:08,907 - INFO - downloader - skip downloading file 000118.jpg\n",
      "2023-02-28 16:34:08,908 - INFO - downloader - skip downloading file 000119.jpg\n",
      "2023-02-28 16:34:08,910 - INFO - downloader - skip downloading file 000120.jpg\n",
      "2023-02-28 16:34:08,910 - INFO - downloader - skip downloading file 000121.jpg\n",
      "2023-02-28 16:34:08,911 - INFO - downloader - skip downloading file 000122.jpg\n",
      "2023-02-28 16:34:08,913 - INFO - downloader - skip downloading file 000123.jpg\n",
      "2023-02-28 16:34:08,914 - INFO - downloader - skip downloading file 000124.jpg\n",
      "2023-02-28 16:34:08,917 - INFO - downloader - skip downloading file 000125.jpg\n",
      "2023-02-28 16:34:08,917 - INFO - downloader - skip downloading file 000126.jpg\n",
      "2023-02-28 16:34:08,918 - INFO - downloader - skip downloading file 000127.jpg\n",
      "2023-02-28 16:34:09,268 - INFO - parser - parsing result page https://www.bing.com/images/async?q=gloves&first=180\n",
      "2023-02-28 16:34:09,285 - INFO - downloader - skip downloading file 000128.jpg\n",
      "2023-02-28 16:34:09,287 - INFO - downloader - skip downloading file 000129.jpg\n",
      "2023-02-28 16:34:09,288 - INFO - downloader - skip downloading file 000130.jpg\n",
      "2023-02-28 16:34:09,290 - INFO - downloader - skip downloading file 000131.jpg\n",
      "2023-02-28 16:34:09,291 - INFO - downloader - skip downloading file 000132.jpg\n",
      "2023-02-28 16:34:09,292 - INFO - downloader - skip downloading file 000133.jpg\n",
      "2023-02-28 16:34:09,293 - INFO - downloader - skip downloading file 000134.jpg\n",
      "2023-02-28 16:34:09,294 - INFO - downloader - skip downloading file 000135.jpg\n",
      "2023-02-28 16:34:09,298 - INFO - downloader - skip downloading file 000136.jpg\n",
      "2023-02-28 16:34:09,299 - INFO - downloader - skip downloading file 000137.jpg\n",
      "2023-02-28 16:34:09,300 - INFO - downloader - skip downloading file 000138.jpg\n",
      "2023-02-28 16:34:09,301 - INFO - downloader - skip downloading file 000139.jpg\n",
      "2023-02-28 16:34:09,302 - INFO - downloader - skip downloading file 000140.jpg\n",
      "2023-02-28 16:34:09,647 - INFO - parser - parsing result page https://www.bing.com/images/async?q=gloves&first=200\n",
      "2023-02-28 16:34:09,662 - INFO - downloader - skip downloading file 000141.jpg\n",
      "2023-02-28 16:34:09,663 - INFO - downloader - skip downloading file 000142.jpg\n",
      "2023-02-28 16:34:09,666 - INFO - downloader - skip downloading file 000143.jpg\n",
      "2023-02-28 16:34:09,667 - INFO - downloader - skip downloading file 000144.jpg\n",
      "2023-02-28 16:34:09,669 - INFO - downloader - skip downloading file 000145.jpg\n",
      "2023-02-28 16:34:09,670 - INFO - downloader - skip downloading file 000146.jpg\n",
      "2023-02-28 16:34:09,671 - INFO - downloader - skip downloading file 000147.jpg\n",
      "2023-02-28 16:34:09,673 - INFO - downloader - skip downloading file 000148.jpg\n",
      "2023-02-28 16:34:09,674 - INFO - downloader - skip downloading file 000149.jpg\n",
      "2023-02-28 16:34:09,676 - INFO - downloader - skip downloading file 000150.jpg\n",
      "2023-02-28 16:34:09,677 - INFO - downloader - skip downloading file 000151.jpg\n",
      "2023-02-28 16:34:09,678 - INFO - downloader - skip downloading file 000152.jpg\n",
      "2023-02-28 16:34:09,679 - INFO - downloader - skip downloading file 000153.jpg\n",
      "2023-02-28 16:34:09,681 - INFO - downloader - skip downloading file 000154.jpg\n",
      "2023-02-28 16:34:09,682 - INFO - downloader - skip downloading file 000155.jpg\n",
      "2023-02-28 16:34:09,683 - INFO - downloader - skip downloading file 000156.jpg\n",
      "2023-02-28 16:34:09,684 - INFO - downloader - skip downloading file 000157.jpg\n",
      "2023-02-28 16:34:09,685 - INFO - downloader - skip downloading file 000158.jpg\n",
      "2023-02-28 16:34:09,982 - INFO - parser - parsing result page https://www.bing.com/images/async?q=gloves&first=220\n",
      "2023-02-28 16:34:10,000 - INFO - downloader - skip downloading file 000159.jpg\n",
      "2023-02-28 16:34:10,002 - INFO - downloader - skip downloading file 000160.jpg\n",
      "2023-02-28 16:34:10,003 - INFO - downloader - skip downloading file 000161.jpg\n",
      "2023-02-28 16:34:10,004 - INFO - downloader - skip downloading file 000162.jpg\n",
      "2023-02-28 16:34:10,006 - INFO - downloader - skip downloading file 000163.jpg\n",
      "2023-02-28 16:34:10,007 - INFO - downloader - skip downloading file 000164.jpg\n",
      "2023-02-28 16:34:10,009 - INFO - downloader - skip downloading file 000165.jpg\n",
      "2023-02-28 16:34:10,012 - INFO - downloader - skip downloading file 000166.jpg\n",
      "2023-02-28 16:34:10,013 - INFO - downloader - skip downloading file 000167.jpg\n",
      "2023-02-28 16:34:10,013 - INFO - downloader - skip downloading file 000168.jpg\n",
      "2023-02-28 16:34:10,015 - INFO - downloader - skip downloading file 000169.jpg\n",
      "2023-02-28 16:34:10,016 - INFO - downloader - skip downloading file 000170.jpg\n",
      "2023-02-28 16:34:10,339 - INFO - parser - parsing result page https://www.bing.com/images/async?q=gloves&first=240\n",
      "2023-02-28 16:34:10,356 - INFO - downloader - skip downloading file 000171.jpg\n",
      "2023-02-28 16:34:10,357 - INFO - downloader - skip downloading file 000172.jpg\n",
      "2023-02-28 16:34:10,358 - INFO - downloader - skip downloading file 000173.jpg\n",
      "2023-02-28 16:34:10,360 - INFO - downloader - skip downloading file 000174.jpg\n",
      "2023-02-28 16:34:10,360 - INFO - downloader - skip downloading file 000175.jpg\n",
      "2023-02-28 16:34:10,362 - INFO - downloader - skip downloading file 000176.jpg\n",
      "2023-02-28 16:34:10,365 - INFO - downloader - skip downloading file 000177.jpg\n",
      "2023-02-28 16:34:10,366 - INFO - downloader - skip downloading file 000178.jpg\n",
      "2023-02-28 16:34:10,367 - INFO - downloader - skip downloading file 000179.jpg\n",
      "2023-02-28 16:34:10,368 - INFO - downloader - skip downloading file 000180.jpg\n",
      "2023-02-28 16:34:10,884 - INFO - parser - parsing result page https://www.bing.com/images/async?q=gloves&first=260\n",
      "2023-02-28 16:34:10,900 - INFO - downloader - skip downloading file 000181.jpg\n",
      "2023-02-28 16:34:10,902 - INFO - downloader - skip downloading file 000182.jpg\n",
      "2023-02-28 16:34:10,903 - INFO - downloader - skip downloading file 000183.jpg\n",
      "2023-02-28 16:34:10,904 - INFO - downloader - skip downloading file 000184.jpg\n",
      "2023-02-28 16:34:10,905 - INFO - downloader - skip downloading file 000185.jpg\n",
      "2023-02-28 16:34:10,906 - INFO - downloader - skip downloading file 000186.jpg\n",
      "2023-02-28 16:34:10,909 - INFO - downloader - skip downloading file 000187.jpg\n",
      "2023-02-28 16:34:10,911 - INFO - downloader - skip downloading file 000188.jpg\n",
      "2023-02-28 16:34:10,912 - INFO - downloader - skip downloading file 000189.jpg\n",
      "2023-02-28 16:34:10,913 - INFO - downloader - skip downloading file 000190.jpg\n",
      "2023-02-28 16:34:10,913 - INFO - downloader - skip downloading file 000191.jpg\n",
      "2023-02-28 16:34:11,469 - INFO - parser - parsing result page https://www.bing.com/images/async?q=gloves&first=280\n",
      "2023-02-28 16:34:11,486 - INFO - downloader - skip downloading file 000192.jpg\n",
      "2023-02-28 16:34:11,487 - INFO - downloader - skip downloading file 000193.jpg\n",
      "2023-02-28 16:34:11,489 - INFO - downloader - skip downloading file 000194.jpg\n",
      "2023-02-28 16:34:11,491 - INFO - downloader - skip downloading file 000195.jpg\n",
      "2023-02-28 16:34:11,492 - INFO - downloader - skip downloading file 000196.jpg\n",
      "2023-02-28 16:34:11,492 - INFO - downloader - skip downloading file 000197.jpg\n",
      "2023-02-28 16:34:11,495 - INFO - downloader - skip downloading file 000198.jpg\n",
      "2023-02-28 16:34:11,495 - INFO - downloader - skip downloading file 000199.jpg\n",
      "2023-02-28 16:34:11,496 - INFO - downloader - skip downloading file 000200.jpg\n",
      "2023-02-28 16:34:11,497 - INFO - downloader - skip downloading file 000201.jpg\n",
      "2023-02-28 16:34:11,502 - INFO - downloader - skip downloading file 000202.jpg\n",
      "2023-02-28 16:34:11,503 - INFO - downloader - skip downloading file 000203.jpg\n",
      "2023-02-28 16:34:11,504 - INFO - downloader - skip downloading file 000204.jpg\n",
      "2023-02-28 16:34:11,505 - INFO - downloader - skip downloading file 000205.jpg\n",
      "2023-02-28 16:34:11,507 - INFO - downloader - skip downloading file 000206.jpg\n",
      "2023-02-28 16:34:11,963 - INFO - parser - parsing result page https://www.bing.com/images/async?q=gloves&first=300\n",
      "2023-02-28 16:34:11,978 - INFO - downloader - skip downloading file 000207.jpg\n",
      "2023-02-28 16:34:11,980 - INFO - downloader - skip downloading file 000208.jpg\n",
      "2023-02-28 16:34:11,981 - INFO - downloader - skip downloading file 000209.jpg\n",
      "2023-02-28 16:34:11,982 - INFO - downloader - skip downloading file 000210.jpg\n",
      "2023-02-28 16:34:11,983 - INFO - downloader - skip downloading file 000211.jpg\n",
      "2023-02-28 16:34:11,985 - INFO - downloader - skip downloading file 000212.jpg\n",
      "2023-02-28 16:34:11,986 - INFO - downloader - skip downloading file 000213.jpg\n",
      "2023-02-28 16:34:11,987 - INFO - downloader - skip downloading file 000214.jpg\n",
      "2023-02-28 16:34:11,988 - INFO - downloader - skip downloading file 000215.jpg\n",
      "2023-02-28 16:34:11,990 - INFO - downloader - skip downloading file 000216.jpg\n",
      "2023-02-28 16:34:11,990 - INFO - downloader - skip downloading file 000217.jpg\n",
      "2023-02-28 16:34:11,992 - INFO - downloader - skip downloading file 000218.jpg\n",
      "2023-02-28 16:34:11,993 - INFO - downloader - skip downloading file 000219.jpg\n",
      "2023-02-28 16:34:11,995 - INFO - downloader - skip downloading file 000220.jpg\n",
      "2023-02-28 16:34:11,996 - INFO - downloader - skip downloading file 000221.jpg\n",
      "2023-02-28 16:34:11,997 - INFO - downloader - skip downloading file 000222.jpg\n",
      "2023-02-28 16:34:11,998 - INFO - downloader - skip downloading file 000223.jpg\n",
      "2023-02-28 16:34:12,268 - INFO - parser - parsing result page https://www.bing.com/images/async?q=gloves&first=320\n",
      "2023-02-28 16:34:12,283 - INFO - downloader - skip downloading file 000224.jpg\n",
      "2023-02-28 16:34:12,284 - INFO - downloader - skip downloading file 000225.jpg\n",
      "2023-02-28 16:34:12,286 - INFO - downloader - skip downloading file 000226.jpg\n",
      "2023-02-28 16:34:12,287 - INFO - downloader - skip downloading file 000227.jpg\n",
      "2023-02-28 16:34:12,288 - INFO - downloader - skip downloading file 000228.jpg\n",
      "2023-02-28 16:34:12,289 - INFO - downloader - skip downloading file 000229.jpg\n",
      "2023-02-28 16:34:12,292 - INFO - downloader - skip downloading file 000230.jpg\n",
      "2023-02-28 16:34:12,293 - INFO - downloader - skip downloading file 000231.jpg\n",
      "2023-02-28 16:34:12,294 - INFO - downloader - skip downloading file 000232.jpg\n",
      "2023-02-28 16:34:12,295 - INFO - downloader - skip downloading file 000233.jpg\n",
      "2023-02-28 16:34:12,297 - INFO - downloader - skip downloading file 000234.jpg\n",
      "2023-02-28 16:34:12,298 - INFO - downloader - skip downloading file 000235.jpg\n",
      "2023-02-28 16:34:12,573 - INFO - parser - parsing result page https://www.bing.com/images/async?q=gloves&first=340\n",
      "2023-02-28 16:34:12,589 - INFO - downloader - skip downloading file 000236.jpg\n",
      "2023-02-28 16:34:12,591 - INFO - downloader - skip downloading file 000237.jpg\n",
      "2023-02-28 16:34:12,591 - INFO - downloader - skip downloading file 000238.jpg\n",
      "2023-02-28 16:34:12,593 - INFO - downloader - skip downloading file 000239.jpg\n",
      "2023-02-28 16:34:12,594 - INFO - downloader - skip downloading file 000240.jpg\n",
      "2023-02-28 16:34:12,595 - INFO - downloader - skip downloading file 000241.jpg\n",
      "2023-02-28 16:34:12,596 - INFO - downloader - skip downloading file 000242.jpg\n",
      "2023-02-28 16:34:12,597 - INFO - downloader - skip downloading file 000243.jpg\n",
      "2023-02-28 16:34:12,599 - INFO - downloader - skip downloading file 000244.jpg\n",
      "2023-02-28 16:34:12,600 - INFO - downloader - skip downloading file 000245.jpg\n",
      "2023-02-28 16:34:12,601 - INFO - downloader - skip downloading file 000246.jpg\n",
      "2023-02-28 16:34:12,602 - INFO - downloader - skip downloading file 000247.jpg\n",
      "2023-02-28 16:34:12,603 - INFO - downloader - skip downloading file 000248.jpg\n",
      "2023-02-28 16:34:12,873 - INFO - parser - parsing result page https://www.bing.com/images/async?q=gloves&first=360\n",
      "2023-02-28 16:34:12,889 - INFO - downloader - skip downloading file 000249.jpg\n",
      "2023-02-28 16:34:12,890 - INFO - downloader - skip downloading file 000250.jpg\n",
      "2023-02-28 16:34:12,891 - INFO - downloader - skip downloading file 000251.jpg\n",
      "2023-02-28 16:34:12,893 - INFO - downloader - skip downloading file 000252.jpg\n",
      "2023-02-28 16:34:12,894 - INFO - downloader - skip downloading file 000253.jpg\n",
      "2023-02-28 16:34:12,895 - INFO - downloader - skip downloading file 000254.jpg\n",
      "2023-02-28 16:34:12,896 - INFO - downloader - skip downloading file 000255.jpg\n",
      "2023-02-28 16:34:12,897 - INFO - downloader - skip downloading file 000256.jpg\n",
      "2023-02-28 16:34:12,898 - INFO - downloader - skip downloading file 000257.jpg\n",
      "2023-02-28 16:34:12,899 - INFO - feeder - thread feeder-001 exit\n",
      "2023-02-28 16:34:12,902 - INFO - downloader - skip downloading file 000258.jpg\n",
      "2023-02-28 16:34:12,906 - INFO - downloader - skip downloading file 000259.jpg\n",
      "2023-02-28 16:34:12,907 - INFO - downloader - skip downloading file 000260.jpg\n",
      "2023-02-28 16:34:12,909 - INFO - downloader - skip downloading file 000261.jpg\n",
      "2023-02-28 16:34:12,910 - INFO - downloader - skip downloading file 000262.jpg\n",
      "2023-02-28 16:34:12,911 - INFO - downloader - skip downloading file 000263.jpg\n",
      "2023-02-28 16:34:13,197 - INFO - parser - parsing result page https://www.bing.com/images/async?q=gloves&first=380\n",
      "2023-02-28 16:34:13,214 - INFO - downloader - skip downloading file 000264.jpg\n",
      "2023-02-28 16:34:13,216 - INFO - downloader - skip downloading file 000265.jpg\n",
      "2023-02-28 16:34:13,216 - INFO - downloader - skip downloading file 000266.jpg\n",
      "2023-02-28 16:34:13,218 - INFO - downloader - skip downloading file 000267.jpg\n",
      "2023-02-28 16:34:13,219 - INFO - downloader - skip downloading file 000268.jpg\n",
      "2023-02-28 16:34:13,222 - INFO - downloader - skip downloading file 000269.jpg\n",
      "2023-02-28 16:34:13,224 - INFO - downloader - skip downloading file 000270.jpg\n",
      "2023-02-28 16:34:13,224 - INFO - downloader - skip downloading file 000271.jpg\n",
      "2023-02-28 16:34:13,226 - INFO - downloader - skip downloading file 000272.jpg\n",
      "2023-02-28 16:34:13,226 - INFO - downloader - skip downloading file 000273.jpg\n",
      "2023-02-28 16:34:13,495 - INFO - parser - parsing result page https://www.bing.com/images/async?q=gloves&first=400\n",
      "2023-02-28 16:34:13,511 - INFO - downloader - skip downloading file 000274.jpg\n",
      "2023-02-28 16:34:13,514 - INFO - downloader - skip downloading file 000275.jpg\n",
      "2023-02-28 16:34:13,515 - INFO - downloader - skip downloading file 000276.jpg\n",
      "2023-02-28 16:34:13,516 - INFO - downloader - skip downloading file 000277.jpg\n",
      "2023-02-28 16:34:13,517 - INFO - downloader - skip downloading file 000278.jpg\n",
      "2023-02-28 16:34:13,517 - INFO - downloader - skip downloading file 000279.jpg\n",
      "2023-02-28 16:34:13,805 - INFO - parser - parsing result page https://www.bing.com/images/async?q=gloves&first=420\n",
      "2023-02-28 16:34:13,820 - INFO - downloader - skip downloading file 000280.jpg\n",
      "2023-02-28 16:34:13,821 - INFO - downloader - skip downloading file 000281.jpg\n",
      "2023-02-28 16:34:13,823 - INFO - downloader - skip downloading file 000282.jpg\n",
      "2023-02-28 16:34:13,824 - INFO - downloader - skip downloading file 000283.jpg\n",
      "2023-02-28 16:34:13,824 - INFO - downloader - skip downloading file 000284.jpg\n",
      "2023-02-28 16:34:13,827 - INFO - downloader - skip downloading file 000285.jpg\n",
      "2023-02-28 16:34:13,828 - INFO - downloader - skip downloading file 000286.jpg\n",
      "2023-02-28 16:34:13,828 - INFO - downloader - skip downloading file 000287.jpg\n",
      "2023-02-28 16:34:13,830 - INFO - downloader - skip downloading file 000288.jpg\n",
      "2023-02-28 16:34:13,831 - INFO - downloader - skip downloading file 000289.jpg\n",
      "2023-02-28 16:34:13,832 - INFO - downloader - skip downloading file 000290.jpg\n",
      "2023-02-28 16:34:13,834 - INFO - downloader - skip downloading file 000291.jpg\n",
      "2023-02-28 16:34:13,834 - INFO - downloader - skip downloading file 000292.jpg\n",
      "2023-02-28 16:34:13,835 - INFO - downloader - skip downloading file 000293.jpg\n",
      "2023-02-28 16:34:13,837 - INFO - downloader - skip downloading file 000294.jpg\n",
      "2023-02-28 16:34:13,838 - INFO - downloader - skip downloading file 000295.jpg\n",
      "2023-02-28 16:34:13,839 - INFO - downloader - skip downloading file 000296.jpg\n",
      "2023-02-28 16:34:13,843 - INFO - downloader - skip downloading file 000297.jpg\n",
      "2023-02-28 16:34:13,844 - INFO - downloader - skip downloading file 000298.jpg\n",
      "2023-02-28 16:34:13,845 - INFO - downloader - skip downloading file 000299.jpg\n",
      "2023-02-28 16:34:13,849 - INFO - downloader - skip downloading file 000300.jpg\n",
      "2023-02-28 16:34:13,852 - INFO - downloader - skip downloading file 000301.jpg\n",
      "2023-02-28 16:34:13,853 - INFO - downloader - skip downloading file 000302.jpg\n",
      "2023-02-28 16:34:13,856 - INFO - downloader - skip downloading file 000303.jpg\n",
      "2023-02-28 16:34:13,858 - INFO - downloader - skip downloading file 000304.jpg\n",
      "2023-02-28 16:34:13,859 - INFO - downloader - skip downloading file 000305.jpg\n",
      "2023-02-28 16:34:14,704 - INFO - parser - parsing result page https://www.bing.com/images/async?q=gloves&first=440\n",
      "2023-02-28 16:34:14,721 - INFO - downloader - skip downloading file 000306.jpg\n",
      "2023-02-28 16:34:14,722 - INFO - downloader - skip downloading file 000307.jpg\n",
      "2023-02-28 16:34:14,723 - INFO - downloader - skip downloading file 000308.jpg\n",
      "2023-02-28 16:34:14,724 - INFO - downloader - skip downloading file 000309.jpg\n",
      "2023-02-28 16:34:14,725 - INFO - downloader - skip downloading file 000310.jpg\n",
      "2023-02-28 16:34:14,727 - INFO - downloader - skip downloading file 000311.jpg\n",
      "2023-02-28 16:34:14,729 - INFO - downloader - skip downloading file 000312.jpg\n",
      "2023-02-28 16:34:14,730 - INFO - downloader - skip downloading file 000313.jpg\n",
      "2023-02-28 16:34:14,731 - INFO - downloader - skip downloading file 000314.jpg\n",
      "2023-02-28 16:34:14,732 - INFO - downloader - skip downloading file 000315.jpg\n",
      "2023-02-28 16:34:14,733 - INFO - downloader - skip downloading file 000316.jpg\n",
      "2023-02-28 16:34:15,076 - INFO - parser - parsing result page https://www.bing.com/images/async?q=gloves&first=460\n",
      "2023-02-28 16:34:15,093 - INFO - downloader - skip downloading file 000317.jpg\n",
      "2023-02-28 16:34:15,094 - INFO - downloader - skip downloading file 000318.jpg\n",
      "2023-02-28 16:34:15,095 - INFO - downloader - skip downloading file 000319.jpg\n",
      "2023-02-28 16:34:15,097 - INFO - downloader - skip downloading file 000320.jpg\n",
      "2023-02-28 16:34:15,098 - INFO - downloader - skip downloading file 000321.jpg\n",
      "2023-02-28 16:34:15,099 - INFO - downloader - skip downloading file 000322.jpg\n",
      "2023-02-28 16:34:15,100 - INFO - downloader - skip downloading file 000323.jpg\n",
      "2023-02-28 16:34:15,102 - INFO - downloader - skip downloading file 000324.jpg\n",
      "2023-02-28 16:34:15,103 - INFO - downloader - skip downloading file 000325.jpg\n",
      "2023-02-28 16:34:15,105 - INFO - downloader - skip downloading file 000326.jpg\n",
      "2023-02-28 16:34:15,105 - INFO - downloader - skip downloading file 000327.jpg\n",
      "2023-02-28 16:34:15,106 - INFO - downloader - skip downloading file 000328.jpg\n",
      "2023-02-28 16:34:15,468 - INFO - parser - parsing result page https://www.bing.com/images/async?q=gloves&first=480\n",
      "2023-02-28 16:34:15,485 - INFO - downloader - skip downloading file 000329.jpg\n",
      "2023-02-28 16:34:15,485 - INFO - downloader - skip downloading file 000330.jpg\n",
      "2023-02-28 16:34:15,487 - INFO - downloader - skip downloading file 000331.jpg\n",
      "2023-02-28 16:34:15,489 - INFO - downloader - skip downloading file 000332.jpg\n",
      "2023-02-28 16:34:15,490 - INFO - downloader - skip downloading file 000333.jpg\n",
      "2023-02-28 16:34:15,492 - INFO - downloader - skip downloading file 000334.jpg\n",
      "2023-02-28 16:34:15,492 - INFO - downloader - skip downloading file 000335.jpg\n",
      "2023-02-28 16:34:15,494 - INFO - downloader - skip downloading file 000336.jpg\n",
      "2023-02-28 16:34:15,495 - INFO - downloader - skip downloading file 000337.jpg\n",
      "2023-02-28 16:34:15,496 - INFO - downloader - skip downloading file 000338.jpg\n",
      "2023-02-28 16:34:15,497 - INFO - downloader - skip downloading file 000339.jpg\n",
      "2023-02-28 16:34:17,500 - INFO - parser - no more page urls for thread parser-001 to parse\n",
      "2023-02-28 16:34:17,502 - INFO - parser - thread parser-001 exit\n"
     ]
    },
    {
     "ename": "KeyboardInterrupt",
     "evalue": "",
     "output_type": "error",
     "traceback": [
      "\u001b[1;31m---------------------------------------------------------------------------\u001b[0m",
      "\u001b[1;31mKeyboardInterrupt\u001b[0m                         Traceback (most recent call last)",
      "Cell \u001b[1;32mIn[2], line 10\u001b[0m\n\u001b[0;32m      7\u001b[0m         work_crawler \u001b[39m=\u001b[39m crawler(storage \u001b[39m=\u001b[39m {\u001b[39m'\u001b[39m\u001b[39mroot_dir\u001b[39m\u001b[39m'\u001b[39m : \u001b[39m'\u001b[39m\u001b[39mC:/Users/HUAWEI/OneDrive/Desktop/Crowler/\u001b[39m\u001b[39m'\u001b[39m \u001b[39m+\u001b[39m i})\n\u001b[0;32m      8\u001b[0m         work_crawler\u001b[39m.\u001b[39mcrawl(keyword \u001b[39m=\u001b[39m i, max_num \u001b[39m=\u001b[39m \u001b[39m500\u001b[39m)\n\u001b[1;32m---> 10\u001b[0m crawler(BingImageCrawler, clothes_1)\n\u001b[0;32m     11\u001b[0m crawler(GoogleImageCrawler, clothes_1)\n\u001b[0;32m     12\u001b[0m crawler(BaiduImageCrawler, clothes_1)\n",
      "Cell \u001b[1;32mIn[2], line 8\u001b[0m, in \u001b[0;36mcrawler\u001b[1;34m(crawler, clothes)\u001b[0m\n\u001b[0;32m      6\u001b[0m \u001b[39mfor\u001b[39;00m i \u001b[39min\u001b[39;00m clothes:\n\u001b[0;32m      7\u001b[0m     work_crawler \u001b[39m=\u001b[39m crawler(storage \u001b[39m=\u001b[39m {\u001b[39m'\u001b[39m\u001b[39mroot_dir\u001b[39m\u001b[39m'\u001b[39m : \u001b[39m'\u001b[39m\u001b[39mC:/Users/HUAWEI/OneDrive/Desktop/Crowler/\u001b[39m\u001b[39m'\u001b[39m \u001b[39m+\u001b[39m i})\n\u001b[1;32m----> 8\u001b[0m     work_crawler\u001b[39m.\u001b[39;49mcrawl(keyword \u001b[39m=\u001b[39;49m i, max_num \u001b[39m=\u001b[39;49m \u001b[39m500\u001b[39;49m)\n",
      "File \u001b[1;32mc:\\Users\\HUAWEI\\AppData\\Local\\Programs\\Python\\Python311\\Lib\\site-packages\\icrawler\\builtin\\bing.py:173\u001b[0m, in \u001b[0;36mBingImageCrawler.crawl\u001b[1;34m(self, keyword, filters, offset, max_num, min_size, max_size, file_idx_offset, overwrite)\u001b[0m\n\u001b[0;32m    165\u001b[0m feeder_kwargs \u001b[39m=\u001b[39m \u001b[39mdict\u001b[39m(\n\u001b[0;32m    166\u001b[0m     keyword\u001b[39m=\u001b[39mkeyword, offset\u001b[39m=\u001b[39moffset, max_num\u001b[39m=\u001b[39mmax_num, filters\u001b[39m=\u001b[39mfilters)\n\u001b[0;32m    167\u001b[0m downloader_kwargs \u001b[39m=\u001b[39m \u001b[39mdict\u001b[39m(\n\u001b[0;32m    168\u001b[0m     max_num\u001b[39m=\u001b[39mmax_num,\n\u001b[0;32m    169\u001b[0m     min_size\u001b[39m=\u001b[39mmin_size,\n\u001b[0;32m    170\u001b[0m     max_size\u001b[39m=\u001b[39mmax_size,\n\u001b[0;32m    171\u001b[0m     file_idx_offset\u001b[39m=\u001b[39mfile_idx_offset,\n\u001b[0;32m    172\u001b[0m     overwrite\u001b[39m=\u001b[39moverwrite)\n\u001b[1;32m--> 173\u001b[0m \u001b[39msuper\u001b[39;49m(BingImageCrawler, \u001b[39mself\u001b[39;49m)\u001b[39m.\u001b[39;49mcrawl(\n\u001b[0;32m    174\u001b[0m     feeder_kwargs\u001b[39m=\u001b[39;49mfeeder_kwargs, downloader_kwargs\u001b[39m=\u001b[39;49mdownloader_kwargs)\n",
      "File \u001b[1;32mc:\\Users\\HUAWEI\\AppData\\Local\\Programs\\Python\\Python311\\Lib\\site-packages\\icrawler\\crawler.py:195\u001b[0m, in \u001b[0;36mCrawler.crawl\u001b[1;34m(self, feeder_kwargs, parser_kwargs, downloader_kwargs)\u001b[0m\n\u001b[0;32m    193\u001b[0m     \u001b[39mif\u001b[39;00m \u001b[39mnot\u001b[39;00m \u001b[39mself\u001b[39m\u001b[39m.\u001b[39mdownloader\u001b[39m.\u001b[39mis_alive():\n\u001b[0;32m    194\u001b[0m         \u001b[39mbreak\u001b[39;00m\n\u001b[1;32m--> 195\u001b[0m     time\u001b[39m.\u001b[39msleep(\u001b[39m1\u001b[39m)\n\u001b[0;32m    197\u001b[0m \u001b[39mif\u001b[39;00m \u001b[39mnot\u001b[39;00m \u001b[39mself\u001b[39m\u001b[39m.\u001b[39mfeeder\u001b[39m.\u001b[39min_queue\u001b[39m.\u001b[39mempty():\n\u001b[0;32m    198\u001b[0m     \u001b[39mself\u001b[39m\u001b[39m.\u001b[39mfeeder\u001b[39m.\u001b[39mclear_buffer()\n",
      "\u001b[1;31mKeyboardInterrupt\u001b[0m: "
     ]
    },
    {
     "name": "stderr",
     "output_type": "stream",
     "text": [
      "2023-02-28 16:34:20,510 - INFO - downloader - no more download task for thread downloader-001\n",
      "2023-02-28 16:34:20,510 - INFO - downloader - thread downloader-001 exit\n"
     ]
    }
   ],
   "source": [
    "clothes_1 = ['gloves', 'jeans', 'socks']\n",
    "clothes_2 = ['gloves man', 'jeans man', 'socks man']\n",
    "clothes_3 = ['gloves woman', 'jeans woman', 'socks woman']\n",
    "\n",
    "def crawler(crawler, clothes):\n",
    "    for i in clothes:\n",
    "        work_crawler = crawler(storage = {'root_dir' : 'C:/Users/HUAWEI/OneDrive/Desktop/Crowler/' + i})\n",
    "        work_crawler.crawl(keyword = i, max_num = 500)\n",
    "\n",
    "crawler(BingImageCrawler, clothes_1)\n",
    "crawler(GoogleImageCrawler, clothes_1)\n",
    "crawler(BaiduImageCrawler, clothes_1)\n",
    "crawler(BingImageCrawler, clothes_2)\n",
    "crawler(GoogleImageCrawler, clothes_2)\n",
    "crawler(BaiduImageCrawler, clothes_2)\n",
    "crawler(BingImageCrawler, clothes_3)\n",
    "crawler(GoogleImageCrawler, clothes_3)\n",
    "crawler(BaiduImageCrawler, clothes_3)"
   ]
  },
  {
   "attachments": {},
   "cell_type": "markdown",
   "metadata": {},
   "source": [
    "Перемещаем мужские и женские перчатки в папку перчаток, также с джинсами и носками (руками) и делаем равное кол-во файлов в каждой из трех категорий"
   ]
  },
  {
   "attachments": {},
   "cell_type": "markdown",
   "metadata": {},
   "source": [
    "Проверяем количество фотографий в каждой категории"
   ]
  },
  {
   "cell_type": "code",
   "execution_count": 2,
   "metadata": {},
   "outputs": [
    {
     "name": "stdout",
     "output_type": "stream",
     "text": [
      "1100\n",
      "1100\n",
      "1100\n"
     ]
    }
   ],
   "source": [
    "print(len(glob.glob('C:/Users/HUAWEI/OneDrive/Desktop/Crowler/gloves/*')))\n",
    "print(len(glob.glob('C:/Users/HUAWEI/OneDrive/Desktop/Crowler/jeans/*')))\n",
    "print(len(glob.glob('C:/Users/HUAWEI/OneDrive/Desktop/Crowler/socks/*')))"
   ]
  },
  {
   "attachments": {},
   "cell_type": "markdown",
   "metadata": {},
   "source": [
    "Переходим к самой нейросети"
   ]
  },
  {
   "cell_type": "code",
   "execution_count": 3,
   "metadata": {},
   "outputs": [],
   "source": [
    "import matplotlib\n",
    "matplotlib.use(\"Agg\")"
   ]
  },
  {
   "cell_type": "code",
   "execution_count": 4,
   "metadata": {},
   "outputs": [],
   "source": [
    "from sklearn.preprocessing import LabelBinarizer\n",
    "from sklearn.model_selection import train_test_split\n",
    "from sklearn.metrics import classification_report\n",
    "from keras.models import Sequential\n",
    "from keras.layers.core import Dense\n",
    "from keras.optimizers import SGD\n",
    "from imutils import paths\n",
    "import matplotlib.pyplot as plt\n",
    "import numpy as np\n",
    "import random\n",
    "import pickle\n",
    "import cv2\n",
    "import os"
   ]
  },
  {
   "cell_type": "code",
   "execution_count": 102,
   "metadata": {},
   "outputs": [],
   "source": [
    "data = []\n",
    "labels = []"
   ]
  },
  {
   "cell_type": "code",
   "execution_count": 111,
   "metadata": {},
   "outputs": [],
   "source": [
    "imagePaths = sorted(list(paths.list_images(\"C:/Users/HUAWEI/OneDrive/Desktop/Crowler/\")))"
   ]
  },
  {
   "cell_type": "code",
   "execution_count": 112,
   "metadata": {},
   "outputs": [
    {
     "name": "stdout",
     "output_type": "stream",
     "text": [
      "2049\n"
     ]
    }
   ],
   "source": [
    "print(len(imagePaths))"
   ]
  },
  {
   "cell_type": "code",
   "execution_count": 106,
   "metadata": {},
   "outputs": [],
   "source": [
    "# цикл по изображениям\n",
    "for imagePath in imagePaths:\n",
    "\t\n",
    "\timage = cv2.imread(imagePath) # загружаем изображение\n",
    "\ttry:\n",
    "\t\timage = (cv2.resize(image, (32, 32))).flatten() # меняем его разрешение на 32x32 пикселей (без учета соотношения сторон),\n",
    "\t\t\t\t\t\t\t\t\t\t\t\t\t\t\t\t\t\t\t\t\t\t\t\t\t\t# сглаживаем его в 32x32x3=3072 пикселей\n",
    "\t\tlabel = imagePath.replace(\"\\\\\", \"/\").split(\"/\")[-2] \t# извлекаем метку класса из пути к изображению (метка класса зависит от имени папки)\n",
    "\t\tlabels.append(label) # обновляем список меток\n",
    "\t\tdata.append(image) # добавляем в список\n",
    "\texcept Exception as e:\n",
    "\t\tos.remove(imagePath)\n"
   ]
  },
  {
   "cell_type": "code",
   "execution_count": 109,
   "metadata": {},
   "outputs": [
    {
     "name": "stdout",
     "output_type": "stream",
     "text": [
      "683\n",
      "683\n",
      "683\n"
     ]
    }
   ],
   "source": [
    "imagePathsGloves = sorted(list(paths.list_images(\"C:/Users/HUAWEI/OneDrive/Desktop/Crowler/gloves\")))\n",
    "imagePathsJeans = sorted(list(paths.list_images(\"C:/Users/HUAWEI/OneDrive/Desktop/Crowler/jeans\")))\n",
    "imagePathsSocks = sorted(list(paths.list_images(\"C:/Users/HUAWEI/OneDrive/Desktop/Crowler/socks\")))\n",
    "print(len(imagePathsGloves))\n",
    "print(len(imagePathsJeans))\n",
    "print(len(imagePathsSocks))"
   ]
  },
  {
   "cell_type": "code",
   "execution_count": 108,
   "metadata": {},
   "outputs": [],
   "source": [
    "a = min(len(imagePathsGloves), len(imagePathsJeans), len(imagePathsSocks))\n",
    "def delete1(a, imgpath):\n",
    "    for i in range(len(imgpath)):\n",
    "        if i >= a:\n",
    "            os.remove(imgpath[i])\n",
    "\n",
    "delete1(a, imagePathsGloves)\n",
    "delete1(a, imagePathsSocks)"
   ]
  },
  {
   "cell_type": "code",
   "execution_count": 113,
   "metadata": {},
   "outputs": [
    {
     "name": "stdout",
     "output_type": "stream",
     "text": [
      "2049\n"
     ]
    }
   ],
   "source": [
    "print(len(imagePaths))"
   ]
  },
  {
   "cell_type": "code",
   "execution_count": 114,
   "metadata": {},
   "outputs": [],
   "source": [
    "random.shuffle(imagePaths)"
   ]
  },
  {
   "cell_type": "code",
   "execution_count": 115,
   "metadata": {},
   "outputs": [],
   "source": [
    "# масштабируем интенсивности пикселей в диапазон [0, 1] (Нормализация данных)\n",
    "data = np.array(data, dtype=\"float\") / 255.0\n",
    "labels = np.array(labels)"
   ]
  },
  {
   "cell_type": "code",
   "execution_count": 116,
   "metadata": {},
   "outputs": [],
   "source": [
    "# разбиваем данные на обучающую и тестовую выборки, используя 75%\n",
    "# данных для обучения и оставшиеся 25% для тестирования\n",
    "(trainX, testX, trainY, testY) = train_test_split(data, labels, test_size=0.25, random_state=42)"
   ]
  },
  {
   "cell_type": "code",
   "execution_count": 117,
   "metadata": {},
   "outputs": [],
   "source": [
    "# конвертируем метки из целых чисел в векторы (для 2х классов при\n",
    "# бинарной классификации вам следует использовать функцию Keras\n",
    "# \"to_categorical\" вместо \"LabelBinarizer\" из scikit-learn, которая не возвращает вектор)\n",
    "lb = LabelBinarizer()\n",
    "trainY = lb.fit_transform(trainY)\n",
    "testY = lb.transform(testY)"
   ]
  },
  {
   "cell_type": "code",
   "execution_count": 136,
   "metadata": {},
   "outputs": [],
   "source": [
    "# определим архитектуру 3072-1024-512-3 с помощью Keras\n",
    "model = Sequential()\n",
    "model.add(Dense(1024, input_shape=(3072,), activation=\"relu\"))\n",
    "model.add(Dense(512, activation=\"relu\"))\n",
    "model.add(Dense(len(lb.classes_), activation=\"softmax\"))"
   ]
  },
  {
   "cell_type": "code",
   "execution_count": 137,
   "metadata": {},
   "outputs": [],
   "source": [
    "# инициализируем скорость обучения и общее число эпох\n",
    "INIT_LR = 0.01\n",
    "EPOCHS = 40"
   ]
  },
  {
   "cell_type": "code",
   "execution_count": 138,
   "metadata": {},
   "outputs": [
    {
     "name": "stderr",
     "output_type": "stream",
     "text": [
      "c:\\Users\\HUAWEI\\AppData\\Local\\Programs\\Python\\Python311\\Lib\\site-packages\\keras\\optimizers\\legacy\\gradient_descent.py:114: UserWarning: The `lr` argument is deprecated, use `learning_rate` instead.\n",
      "  super().__init__(name, **kwargs)\n"
     ]
    }
   ],
   "source": [
    "# компилируем модель, используя SGD как оптимизатор и категориальную\n",
    "# кросс-энтропию в качестве функции потерь (для бинарной классификации\n",
    "# следует использовать binary_crossentropy)\n",
    "opt = SGD(lr=INIT_LR)\n",
    "model.compile(loss=\"categorical_crossentropy\", optimizer=opt,\n",
    "\tmetrics=[\"accuracy\"])"
   ]
  },
  {
   "cell_type": "code",
   "execution_count": 139,
   "metadata": {},
   "outputs": [
    {
     "name": "stdout",
     "output_type": "stream",
     "text": [
      "Epoch 1/40\n",
      "7/7 [==============================] - 1s 77ms/step - loss: 1.3794 - accuracy: 0.3450 - val_loss: 1.5694 - val_accuracy: 0.2914\n",
      "Epoch 2/40\n",
      "7/7 [==============================] - 0s 41ms/step - loss: 1.1950 - accuracy: 0.3812 - val_loss: 1.0455 - val_accuracy: 0.4533\n",
      "Epoch 3/40\n",
      "7/7 [==============================] - 0s 38ms/step - loss: 1.0209 - accuracy: 0.4828 - val_loss: 1.0177 - val_accuracy: 0.5067\n",
      "Epoch 4/40\n",
      "7/7 [==============================] - 0s 37ms/step - loss: 0.9793 - accuracy: 0.5464 - val_loss: 1.0010 - val_accuracy: 0.5086\n",
      "Epoch 5/40\n",
      "7/7 [==============================] - 0s 41ms/step - loss: 0.9672 - accuracy: 0.5381 - val_loss: 0.9985 - val_accuracy: 0.4743\n",
      "Epoch 6/40\n",
      "7/7 [==============================] - 0s 38ms/step - loss: 0.9737 - accuracy: 0.5381 - val_loss: 1.1218 - val_accuracy: 0.4229\n",
      "Epoch 7/40\n",
      "7/7 [==============================] - 0s 38ms/step - loss: 0.9818 - accuracy: 0.5102 - val_loss: 1.0942 - val_accuracy: 0.4476\n",
      "Epoch 8/40\n",
      "7/7 [==============================] - 0s 39ms/step - loss: 0.9355 - accuracy: 0.5553 - val_loss: 0.9524 - val_accuracy: 0.5581\n",
      "Epoch 9/40\n",
      "7/7 [==============================] - 0s 38ms/step - loss: 0.8990 - accuracy: 0.6042 - val_loss: 1.0139 - val_accuracy: 0.4629\n",
      "Epoch 10/40\n",
      "7/7 [==============================] - 0s 43ms/step - loss: 0.9546 - accuracy: 0.5337 - val_loss: 1.0352 - val_accuracy: 0.4133\n",
      "Epoch 11/40\n",
      "7/7 [==============================] - 0s 38ms/step - loss: 0.9166 - accuracy: 0.5718 - val_loss: 0.9963 - val_accuracy: 0.4876\n",
      "Epoch 12/40\n",
      "7/7 [==============================] - 0s 38ms/step - loss: 0.9165 - accuracy: 0.5457 - val_loss: 0.9292 - val_accuracy: 0.5448\n",
      "Epoch 13/40\n",
      "7/7 [==============================] - 0s 38ms/step - loss: 0.9020 - accuracy: 0.5775 - val_loss: 0.9357 - val_accuracy: 0.5371\n",
      "Epoch 14/40\n",
      "7/7 [==============================] - 0s 41ms/step - loss: 0.8659 - accuracy: 0.6112 - val_loss: 0.8984 - val_accuracy: 0.5829\n",
      "Epoch 15/40\n",
      "7/7 [==============================] - 0s 37ms/step - loss: 0.8832 - accuracy: 0.5953 - val_loss: 1.0357 - val_accuracy: 0.4648\n",
      "Epoch 16/40\n",
      "7/7 [==============================] - 0s 37ms/step - loss: 0.9279 - accuracy: 0.5388 - val_loss: 0.8991 - val_accuracy: 0.5448\n",
      "Epoch 17/40\n",
      "7/7 [==============================] - 0s 41ms/step - loss: 0.8332 - accuracy: 0.6429 - val_loss: 0.9040 - val_accuracy: 0.5543\n",
      "Epoch 18/40\n",
      "7/7 [==============================] - 0s 39ms/step - loss: 0.8454 - accuracy: 0.6290 - val_loss: 0.8968 - val_accuracy: 0.5695\n",
      "Epoch 19/40\n",
      "7/7 [==============================] - 0s 43ms/step - loss: 0.8701 - accuracy: 0.6105 - val_loss: 1.2541 - val_accuracy: 0.3638\n",
      "Epoch 20/40\n",
      "7/7 [==============================] - 0s 40ms/step - loss: 0.9119 - accuracy: 0.5959 - val_loss: 0.8728 - val_accuracy: 0.5638\n",
      "Epoch 21/40\n",
      "7/7 [==============================] - 0s 37ms/step - loss: 0.8582 - accuracy: 0.6112 - val_loss: 0.9800 - val_accuracy: 0.5105\n",
      "Epoch 22/40\n",
      "7/7 [==============================] - 0s 36ms/step - loss: 0.8115 - accuracy: 0.6404 - val_loss: 0.8996 - val_accuracy: 0.5733\n",
      "Epoch 23/40\n",
      "7/7 [==============================] - 0s 32ms/step - loss: 0.8053 - accuracy: 0.6404 - val_loss: 0.8462 - val_accuracy: 0.6343\n",
      "Epoch 24/40\n",
      "7/7 [==============================] - 0s 33ms/step - loss: 0.7563 - accuracy: 0.7255 - val_loss: 1.1121 - val_accuracy: 0.5314\n",
      "Epoch 25/40\n",
      "7/7 [==============================] - 0s 32ms/step - loss: 0.7817 - accuracy: 0.7033 - val_loss: 0.8429 - val_accuracy: 0.5905\n",
      "Epoch 26/40\n",
      "7/7 [==============================] - 0s 33ms/step - loss: 0.7824 - accuracy: 0.6773 - val_loss: 0.9388 - val_accuracy: 0.5600\n",
      "Epoch 27/40\n",
      "7/7 [==============================] - 0s 33ms/step - loss: 0.8249 - accuracy: 0.6442 - val_loss: 1.3579 - val_accuracy: 0.3543\n",
      "Epoch 28/40\n",
      "7/7 [==============================] - 0s 33ms/step - loss: 0.8645 - accuracy: 0.6391 - val_loss: 0.8338 - val_accuracy: 0.6267\n",
      "Epoch 29/40\n",
      "7/7 [==============================] - 0s 37ms/step - loss: 0.7310 - accuracy: 0.7224 - val_loss: 1.0455 - val_accuracy: 0.5086\n",
      "Epoch 30/40\n",
      "7/7 [==============================] - 0s 32ms/step - loss: 0.7816 - accuracy: 0.6703 - val_loss: 0.9557 - val_accuracy: 0.5714\n",
      "Epoch 31/40\n",
      "7/7 [==============================] - 0s 32ms/step - loss: 0.7592 - accuracy: 0.6830 - val_loss: 0.8081 - val_accuracy: 0.6362\n",
      "Epoch 32/40\n",
      "7/7 [==============================] - 0s 33ms/step - loss: 0.7368 - accuracy: 0.7014 - val_loss: 0.8965 - val_accuracy: 0.5790\n",
      "Epoch 33/40\n",
      "7/7 [==============================] - 0s 33ms/step - loss: 0.8292 - accuracy: 0.6309 - val_loss: 0.9141 - val_accuracy: 0.5314\n",
      "Epoch 34/40\n",
      "7/7 [==============================] - 0s 33ms/step - loss: 0.7073 - accuracy: 0.7446 - val_loss: 1.0373 - val_accuracy: 0.5410\n",
      "Epoch 35/40\n",
      "7/7 [==============================] - 0s 33ms/step - loss: 0.8054 - accuracy: 0.6569 - val_loss: 0.7981 - val_accuracy: 0.6686\n",
      "Epoch 36/40\n",
      "7/7 [==============================] - 0s 33ms/step - loss: 0.7286 - accuracy: 0.6957 - val_loss: 1.0494 - val_accuracy: 0.5200\n",
      "Epoch 37/40\n",
      "7/7 [==============================] - 0s 32ms/step - loss: 0.7480 - accuracy: 0.7274 - val_loss: 0.8622 - val_accuracy: 0.5905\n",
      "Epoch 38/40\n",
      "7/7 [==============================] - 0s 34ms/step - loss: 0.7052 - accuracy: 0.7294 - val_loss: 0.8378 - val_accuracy: 0.5886\n",
      "Epoch 39/40\n",
      "7/7 [==============================] - 0s 32ms/step - loss: 0.7316 - accuracy: 0.6804 - val_loss: 0.9357 - val_accuracy: 0.5314\n",
      "Epoch 40/40\n",
      "7/7 [==============================] - 0s 32ms/step - loss: 0.7173 - accuracy: 0.7147 - val_loss: 0.7704 - val_accuracy: 0.6743\n"
     ]
    }
   ],
   "source": [
    "# обучаем нейросеть\n",
    "H = model.fit(trainX, trainY, validation_data=(testX, testY),\n",
    "\tepochs=EPOCHS, batch_size=256)"
   ]
  },
  {
   "cell_type": "code",
   "execution_count": 140,
   "metadata": {},
   "outputs": [
    {
     "name": "stdout",
     "output_type": "stream",
     "text": [
      "17/17 [==============================] - 0s 9ms/step\n",
      "              precision    recall  f1-score   support\n",
      "\n",
      "      gloves       0.71      0.73      0.72       197\n",
      "       jeans       0.72      0.66      0.69       148\n",
      "       socks       0.60      0.63      0.61       180\n",
      "\n",
      "    accuracy                           0.67       525\n",
      "   macro avg       0.68      0.67      0.67       525\n",
      "weighted avg       0.68      0.67      0.67       525\n",
      "\n"
     ]
    }
   ],
   "source": [
    "# оцениваем нейросеть\n",
    "predictions = model.predict(testX, batch_size=32)\n",
    "print(classification_report(testY.argmax(axis=1),\n",
    "\tpredictions.argmax(axis=1), target_names=lb.classes_))"
   ]
  },
  {
   "cell_type": "code",
   "execution_count": 141,
   "metadata": {},
   "outputs": [],
   "source": [
    "# строим графики потерь и точности\n",
    "N = np.arange(0, EPOCHS)\n",
    "plt.style.use(\"ggplot\")\n",
    "plt.figure()\n",
    "plt.plot(N, H.history[\"loss\"], label=\"train_loss\")\n",
    "plt.plot(N, H.history[\"val_loss\"], label=\"val_loss\")\n",
    "plt.plot(N, H.history[\"accuracy\"], label=\"train_acc\")\n",
    "plt.plot(N, H.history[\"val_accuracy\"], label=\"val_acc\")\n",
    "plt.title(\"Training Loss and Accuracy (Simple NN)\")\n",
    "plt.xlabel(\"Epoch #\")\n",
    "plt.ylabel(\"Loss/Accuracy\")\n",
    "plt.legend()\n",
    "plt.savefig('C:/Users/HUAWEI/OneDrive/Desktop/plot.png')\n",
    "grafic = cv2.imread('C:/Users/HUAWEI/OneDrive/Desktop/plot.png')\n",
    "cv2.imshow(\"Image\", grafic)\n",
    "cv2.waitKey(0)\n",
    "cv2.destroyAllWindows()"
   ]
  },
  {
   "cell_type": "code",
   "execution_count": 142,
   "metadata": {},
   "outputs": [
    {
     "name": "stdout",
     "output_type": "stream",
     "text": [
      "[INFO] serializing network and label binarizer...\n"
     ]
    }
   ],
   "source": [
    "# сохраняем модель и метки классов в бинарном представлении на диск\n",
    "print(\"[INFO] serializing network and label binarizer...\")\n",
    "model.save(\"C:/Users/HUAWEI/OneDrive/Desktop/model.h5\", save_format=\"h5\")\n",
    "f = open(\"C:/Users/HUAWEI/OneDrive/Desktop/label_bin\", \"wb\")\n",
    "f.write(pickle.dumps(lb))\n",
    "f.close()"
   ]
  },
  {
   "attachments": {},
   "cell_type": "markdown",
   "metadata": {},
   "source": [
    "Проверка обученной модели пользовательскими данными"
   ]
  },
  {
   "cell_type": "code",
   "execution_count": 143,
   "metadata": {},
   "outputs": [],
   "source": [
    "from keras.models import load_model\n",
    "import argparse\n",
    "import pickle\n",
    "import cv2"
   ]
  },
  {
   "cell_type": "code",
   "execution_count": 148,
   "metadata": {},
   "outputs": [],
   "source": [
    "# Добавляем интерфейс для загрузки изображений напрямую из блокнота\n",
    "image = cv2.imread('C:/Users/HUAWEI/OneDrive/Desktop/2.jpg')\n",
    "\n",
    "# загружаем входное изображение, меняем его размер на необходимый и выводим его\n",
    "#image = cv2.imread(list(uploaded.keys())[0])\n",
    "output = image.copy()\n",
    "image = cv2.resize(image, (32, 32))\n",
    "#cv2.imshow(\"Image_little\", image)"
   ]
  },
  {
   "cell_type": "code",
   "execution_count": 149,
   "metadata": {},
   "outputs": [],
   "source": [
    "# \"Выравниваем\" изображение (преобразуем его в вектор. Из 32х32х3 -> 3072)\n",
    "image = image.flatten()\n",
    "# масштабируем значения пикселей к диапазону [0, 1]\n",
    "image = image.astype(\"float\") / 255.0\n",
    "image = image.reshape((1, image.shape[0]))"
   ]
  },
  {
   "cell_type": "code",
   "execution_count": 150,
   "metadata": {},
   "outputs": [
    {
     "name": "stdout",
     "output_type": "stream",
     "text": [
      "[INFO] loading network and label binarizer...\n"
     ]
    }
   ],
   "source": [
    "# загружаем модель и бинаризатор меток\n",
    "from keras import models    \n",
    "print(\"[INFO] loading network and label binarizer...\")\n",
    "model = models.load_model(\"model.h5\")\n",
    "lb = pickle.loads(open(\"label_bin\", \"rb\").read())"
   ]
  },
  {
   "cell_type": "code",
   "execution_count": 151,
   "metadata": {},
   "outputs": [
    {
     "name": "stdout",
     "output_type": "stream",
     "text": [
      "1/1 [==============================] - 0s 88ms/step\n",
      "[[0.05268754 0.85027266 0.09703984]]\n"
     ]
    }
   ],
   "source": [
    "# делаем предсказание на изображении\n",
    "preds = model.predict(image)\n",
    "print(preds)"
   ]
  },
  {
   "cell_type": "code",
   "execution_count": 152,
   "metadata": {},
   "outputs": [],
   "source": [
    "# находим индекс метки класса с наибольшей вероятностью\n",
    "# соответствия\n",
    "i = preds.argmax(axis=1)[0]\n",
    "label = lb.classes_[i]"
   ]
  },
  {
   "cell_type": "code",
   "execution_count": 153,
   "metadata": {},
   "outputs": [
    {
     "data": {
      "text/plain": [
       "array([[[222, 227, 228],\n",
       "        [222, 227, 228],\n",
       "        [222, 227, 228],\n",
       "        ...,\n",
       "        [230, 235, 236],\n",
       "        [230, 235, 236],\n",
       "        [230, 235, 236]],\n",
       "\n",
       "       [[222, 227, 228],\n",
       "        [222, 227, 228],\n",
       "        [222, 227, 228],\n",
       "        ...,\n",
       "        [231, 235, 236],\n",
       "        [231, 235, 236],\n",
       "        [230, 235, 236]],\n",
       "\n",
       "       [[222, 227, 228],\n",
       "        [222, 227, 228],\n",
       "        [222, 227, 228],\n",
       "        ...,\n",
       "        [231, 235, 236],\n",
       "        [231, 235, 236],\n",
       "        [231, 235, 236]],\n",
       "\n",
       "       ...,\n",
       "\n",
       "       [[240, 242, 243],\n",
       "        [240, 242, 243],\n",
       "        [240, 242, 243],\n",
       "        ...,\n",
       "        [234, 236, 237],\n",
       "        [234, 236, 237],\n",
       "        [233, 235, 236]],\n",
       "\n",
       "       [[241, 243, 244],\n",
       "        [241, 243, 244],\n",
       "        [241, 243, 244],\n",
       "        ...,\n",
       "        [235, 237, 238],\n",
       "        [235, 237, 238],\n",
       "        [236, 238, 239]],\n",
       "\n",
       "       [[240, 242, 243],\n",
       "        [240, 242, 243],\n",
       "        [240, 242, 243],\n",
       "        ...,\n",
       "        [235, 237, 238],\n",
       "        [235, 237, 238],\n",
       "        [236, 238, 239]]], dtype=uint8)"
      ]
     },
     "execution_count": 153,
     "metadata": {},
     "output_type": "execute_result"
    }
   ],
   "source": [
    "# Добавляем на исходное изображение метку класса и вероятность прогноза\n",
    "text = \"{}: {:.2f}%\".format(label, preds[0][i] * 100)\n",
    "text = text[text.rfind(chr(47)) + 1:]\n",
    "cv2.putText(output, text, (10, 30), cv2.FONT_HERSHEY_SIMPLEX, 0.7, (0, 0, 255), 2)"
   ]
  },
  {
   "cell_type": "code",
   "execution_count": 154,
   "metadata": {},
   "outputs": [
    {
     "data": {
      "text/plain": [
       "True"
      ]
     },
     "execution_count": 154,
     "metadata": {},
     "output_type": "execute_result"
    }
   ],
   "source": [
    "# показываем выходное изображение\n",
    "cv2.imwrite('C:/Users/HUAWEI/OneDrive/Desktop/output.jpg', output)"
   ]
  },
  {
   "cell_type": "code",
   "execution_count": 155,
   "metadata": {},
   "outputs": [],
   "source": [
    "cv2.imshow(\"Image_output\", output)\n",
    "cv2.waitKey(0)\n",
    "cv2.destroyAllWindows()"
   ]
  }
 ],
 "metadata": {
  "kernelspec": {
   "display_name": "Python 3",
   "language": "python",
   "name": "python3"
  },
  "language_info": {
   "codemirror_mode": {
    "name": "ipython",
    "version": 3
   },
   "file_extension": ".py",
   "mimetype": "text/x-python",
   "name": "python",
   "nbconvert_exporter": "python",
   "pygments_lexer": "ipython3",
   "version": "3.11.2"
  },
  "orig_nbformat": 4,
  "vscode": {
   "interpreter": {
    "hash": "90ed8e26124bb728d3c1a1101de818a20369c76d59a87750c01b7c8c21578be6"
   }
  }
 },
 "nbformat": 4,
 "nbformat_minor": 2
}
