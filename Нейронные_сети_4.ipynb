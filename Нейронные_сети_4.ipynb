{
  "cells": [
    {
      "cell_type": "markdown",
      "metadata": {
        "id": "5FTzd6Tr1HE6"
      },
      "source": [
        "# Построение сверточной нейронной сети для классификации изображений из датасета CIFAR-100, с использованием BatchNormalization() и Dropout()"
      ]
    },
    {
      "cell_type": "markdown",
      "metadata": {
        "id": "gdX9a26i5B-4"
      },
      "source": [
        "[Код с пары](https://colab.research.google.com/drive/1cvPrPI09ySQy-D92gKTzmanVi2cj5Gw_?usp=sharing)"
      ]
    },
    {
      "cell_type": "markdown",
      "metadata": {
        "id": "PegOFe6t0NPk"
      },
      "source": [
        "### Задание 1. Загрузите исходный датасет. Разделите его на обучающую и тестовую выборки. Визуализируйте несколько изображений из датасета. Произведите нормализацию данных. \n",
        "\n",
        "\n",
        "*P.S.: Не забудьте обратить внимание на размерность (shape) исходных данных и при необходимости измените её (см. примеры из предыдущих занятий)*\n",
        "\n",
        "[Информация о датасете в Kaggle](https://www.kaggle.com/datasets/fedesoriano/cifar100?resource=download&select=meta)\n",
        "\n",
        "[Техническая документация по использованию датасета в Keras](https://keras.io/api/datasets/cifar100/)\n",
        "\n",
        "\n",
        "\n"
      ]
    },
    {
      "cell_type": "code",
      "execution_count": 1,
      "metadata": {
        "id": "SSerkZhqz-Zu"
      },
      "outputs": [],
      "source": [
        "import numpy as np\n",
        "import pandas as pd\n",
        "import os\n",
        "import tensorflow as tf\n",
        "from tensorflow import keras\n",
        "import matplotlib.pyplot as plt\n",
        "import numpy as np\n",
        "from keras.models import Sequential\n",
        "from keras.layers import Conv2D, MaxPooling2D, Dense, Flatten\n",
        "from keras.optimizers import Adam, SGD\n",
        "from keras.layers import BatchNormalization\n",
        "from keras.layers import Dropout"
      ]
    },
    {
      "cell_type": "code",
      "execution_count": 2,
      "metadata": {
        "colab": {
          "base_uri": "https://localhost:8080/"
        },
        "id": "Hy5mJEO7OHJe",
        "outputId": "410c1971-27e2-47cf-8eae-f484c07c50a5"
      },
      "outputs": [
        {
          "output_type": "execute_result",
          "data": {
            "text/plain": [
              "((array([[[[255, 255, 255],\n",
              "           [255, 255, 255],\n",
              "           [255, 255, 255],\n",
              "           ...,\n",
              "           [195, 205, 193],\n",
              "           [212, 224, 204],\n",
              "           [182, 194, 167]],\n",
              "  \n",
              "          [[255, 255, 255],\n",
              "           [254, 254, 254],\n",
              "           [254, 254, 254],\n",
              "           ...,\n",
              "           [170, 176, 150],\n",
              "           [161, 168, 130],\n",
              "           [146, 154, 113]],\n",
              "  \n",
              "          [[255, 255, 255],\n",
              "           [254, 254, 254],\n",
              "           [255, 255, 255],\n",
              "           ...,\n",
              "           [189, 199, 169],\n",
              "           [166, 178, 130],\n",
              "           [121, 133,  87]],\n",
              "  \n",
              "          ...,\n",
              "  \n",
              "          [[148, 185,  79],\n",
              "           [142, 182,  57],\n",
              "           [140, 179,  60],\n",
              "           ...,\n",
              "           [ 30,  17,   1],\n",
              "           [ 65,  62,  15],\n",
              "           [ 76,  77,  20]],\n",
              "  \n",
              "          [[122, 157,  66],\n",
              "           [120, 155,  58],\n",
              "           [126, 160,  71],\n",
              "           ...,\n",
              "           [ 22,  16,   3],\n",
              "           [ 97, 112,  56],\n",
              "           [141, 161,  87]],\n",
              "  \n",
              "          [[ 87, 122,  41],\n",
              "           [ 88, 122,  39],\n",
              "           [101, 134,  56],\n",
              "           ...,\n",
              "           [ 34,  36,  10],\n",
              "           [105, 133,  59],\n",
              "           [138, 173,  79]]],\n",
              "  \n",
              "  \n",
              "         [[[255, 255, 255],\n",
              "           [253, 253, 253],\n",
              "           [253, 253, 253],\n",
              "           ...,\n",
              "           [253, 253, 253],\n",
              "           [253, 253, 253],\n",
              "           [255, 255, 255]],\n",
              "  \n",
              "          [[255, 255, 255],\n",
              "           [255, 255, 255],\n",
              "           [255, 255, 255],\n",
              "           ...,\n",
              "           [255, 255, 255],\n",
              "           [255, 255, 255],\n",
              "           [255, 255, 255]],\n",
              "  \n",
              "          [[255, 255, 255],\n",
              "           [255, 255, 255],\n",
              "           [255, 255, 255],\n",
              "           ...,\n",
              "           [255, 255, 255],\n",
              "           [255, 255, 255],\n",
              "           [255, 255, 255]],\n",
              "  \n",
              "          ...,\n",
              "  \n",
              "          [[255, 255, 255],\n",
              "           [255, 255, 255],\n",
              "           [255, 255, 255],\n",
              "           ...,\n",
              "           [255, 255, 255],\n",
              "           [255, 255, 255],\n",
              "           [255, 255, 255]],\n",
              "  \n",
              "          [[255, 255, 255],\n",
              "           [255, 255, 255],\n",
              "           [255, 255, 255],\n",
              "           ...,\n",
              "           [255, 255, 255],\n",
              "           [255, 255, 255],\n",
              "           [255, 255, 255]],\n",
              "  \n",
              "          [[255, 255, 255],\n",
              "           [253, 253, 253],\n",
              "           [253, 253, 253],\n",
              "           ...,\n",
              "           [253, 253, 253],\n",
              "           [253, 253, 253],\n",
              "           [255, 255, 255]]],\n",
              "  \n",
              "  \n",
              "         [[[250, 250, 248],\n",
              "           [248, 249, 243],\n",
              "           [247, 248, 239],\n",
              "           ...,\n",
              "           [250, 250, 246],\n",
              "           [250, 250, 246],\n",
              "           [249, 250, 246]],\n",
              "  \n",
              "          [[250, 251, 245],\n",
              "           [248, 249, 238],\n",
              "           [247, 247, 234],\n",
              "           ...,\n",
              "           [251, 251, 242],\n",
              "           [251, 252, 243],\n",
              "           [250, 251, 243]],\n",
              "  \n",
              "          [[251, 251, 244],\n",
              "           [250, 248, 237],\n",
              "           [250, 245, 233],\n",
              "           ...,\n",
              "           [250, 249, 238],\n",
              "           [250, 249, 240],\n",
              "           [250, 249, 242]],\n",
              "  \n",
              "          ...,\n",
              "  \n",
              "          [[221, 213, 191],\n",
              "           [221, 206, 176],\n",
              "           [225, 207, 181],\n",
              "           ...,\n",
              "           [199, 176, 134],\n",
              "           [207, 193, 165],\n",
              "           [233, 229, 226]],\n",
              "  \n",
              "          [[225, 223, 204],\n",
              "           [227, 219, 196],\n",
              "           [229, 216, 200],\n",
              "           ...,\n",
              "           [204, 185, 151],\n",
              "           [212, 201, 180],\n",
              "           [234, 232, 228]],\n",
              "  \n",
              "          [[233, 233, 226],\n",
              "           [234, 232, 224],\n",
              "           [235, 230, 225],\n",
              "           ...,\n",
              "           [219, 209, 194],\n",
              "           [223, 216, 207],\n",
              "           [232, 230, 228]]],\n",
              "  \n",
              "  \n",
              "         ...,\n",
              "  \n",
              "  \n",
              "         [[[248, 244, 242],\n",
              "           [240, 232, 223],\n",
              "           [236, 232, 223],\n",
              "           ...,\n",
              "           [233, 229, 222],\n",
              "           [230, 228, 222],\n",
              "           [238, 237, 233]],\n",
              "  \n",
              "          [[225, 213, 204],\n",
              "           [186, 167, 149],\n",
              "           [175, 159, 140],\n",
              "           ...,\n",
              "           [163, 148, 134],\n",
              "           [156, 144, 133],\n",
              "           [192, 184, 176]],\n",
              "  \n",
              "          [[209, 194, 179],\n",
              "           [144, 120,  95],\n",
              "           [139, 115,  87],\n",
              "           ...,\n",
              "           [109,  86,  67],\n",
              "           [109,  90,  76],\n",
              "           [157, 145, 135]],\n",
              "  \n",
              "          ...,\n",
              "  \n",
              "          [[161, 159, 153],\n",
              "           [ 39,  34,  28],\n",
              "           [ 28,  20,  14],\n",
              "           ...,\n",
              "           [ 93,  72,  53],\n",
              "           [ 85,  67,  50],\n",
              "           [136, 126, 115]],\n",
              "  \n",
              "          [[181, 179, 172],\n",
              "           [ 86,  83,  77],\n",
              "           [ 71,  68,  62],\n",
              "           ...,\n",
              "           [122, 103,  89],\n",
              "           [105,  92,  82],\n",
              "           [151, 145, 141]],\n",
              "  \n",
              "          [[224, 223, 218],\n",
              "           [180, 180, 175],\n",
              "           [173, 172, 167],\n",
              "           ...,\n",
              "           [196, 187, 180],\n",
              "           [183, 178, 174],\n",
              "           [204, 205, 205]]],\n",
              "  \n",
              "  \n",
              "         [[[156, 154, 137],\n",
              "           [151, 146, 123],\n",
              "           [151, 144, 125],\n",
              "           ...,\n",
              "           [155, 150, 129],\n",
              "           [152, 148, 125],\n",
              "           [186, 184, 163]],\n",
              "  \n",
              "          [[110, 106,  77],\n",
              "           [116, 108,  62],\n",
              "           [114, 101,  57],\n",
              "           ...,\n",
              "           [116, 106,  61],\n",
              "           [111, 103,  56],\n",
              "           [134, 129,  92]],\n",
              "  \n",
              "          [[116, 112,  82],\n",
              "           [124, 118,  66],\n",
              "           [128, 118,  67],\n",
              "           ...,\n",
              "           [ 99,  84,  43],\n",
              "           [101,  87,  43],\n",
              "           [129, 118,  86]],\n",
              "  \n",
              "          ...,\n",
              "  \n",
              "          [[109, 101,  74],\n",
              "           [112, 100,  54],\n",
              "           [118, 105,  62],\n",
              "           ...,\n",
              "           [126, 113,  65],\n",
              "           [126, 111,  61],\n",
              "           [138, 124,  89]],\n",
              "  \n",
              "          [[ 98,  92,  63],\n",
              "           [ 93,  82,  35],\n",
              "           [ 96,  83,  38],\n",
              "           ...,\n",
              "           [112,  96,  47],\n",
              "           [109,  92,  45],\n",
              "           [127, 113,  80]],\n",
              "  \n",
              "          [[170, 167, 145],\n",
              "           [160, 153, 118],\n",
              "           [163, 152, 119],\n",
              "           ...,\n",
              "           [161, 151, 114],\n",
              "           [156, 144, 107],\n",
              "           [163, 154, 126]]],\n",
              "  \n",
              "  \n",
              "         [[[ 31,  67, 122],\n",
              "           [ 30,  68, 124],\n",
              "           [ 31,  69, 126],\n",
              "           ...,\n",
              "           [ 32,  70, 129],\n",
              "           [ 32,  70, 125],\n",
              "           [ 32,  69, 122]],\n",
              "  \n",
              "          [[ 29,  68, 126],\n",
              "           [ 28,  69, 128],\n",
              "           [ 30,  69, 130],\n",
              "           ...,\n",
              "           [ 32,  70, 131],\n",
              "           [ 32,  69, 127],\n",
              "           [ 31,  69, 124]],\n",
              "  \n",
              "          [[ 30,  67, 126],\n",
              "           [ 29,  68, 128],\n",
              "           [ 30,  69, 130],\n",
              "           ...,\n",
              "           [ 32,  72, 132],\n",
              "           [ 31,  70, 130],\n",
              "           [ 30,  69, 127]],\n",
              "  \n",
              "          ...,\n",
              "  \n",
              "          [[ 39,  41,  76],\n",
              "           [ 38,  42,  76],\n",
              "           [ 38,  44,  78],\n",
              "           ...,\n",
              "           [ 39,  44,  79],\n",
              "           [ 38,  42,  77],\n",
              "           [ 39,  41,  76]],\n",
              "  \n",
              "          [[ 40,  39,  73],\n",
              "           [ 39,  40,  74],\n",
              "           [ 39,  41,  76],\n",
              "           ...,\n",
              "           [ 39,  41,  76],\n",
              "           [ 40,  41,  74],\n",
              "           [ 40,  39,  73]],\n",
              "  \n",
              "          [[ 40,  39,  70],\n",
              "           [ 40,  39,  71],\n",
              "           [ 40,  39,  72],\n",
              "           ...,\n",
              "           [ 41,  38,  72],\n",
              "           [ 39,  38,  69],\n",
              "           [ 40,  37,  67]]]], dtype=uint8), array([[19],\n",
              "         [29],\n",
              "         [ 0],\n",
              "         ...,\n",
              "         [ 3],\n",
              "         [ 7],\n",
              "         [73]])), (array([[[[199, 215, 249],\n",
              "           [196, 211, 244],\n",
              "           [195, 210, 243],\n",
              "           ...,\n",
              "           [216, 231, 250],\n",
              "           [217, 231, 250],\n",
              "           [224, 234, 252]],\n",
              "  \n",
              "          [[197, 210, 239],\n",
              "           [195, 208, 238],\n",
              "           [195, 210, 240],\n",
              "           ...,\n",
              "           [231, 243, 250],\n",
              "           [233, 243, 250],\n",
              "           [241, 245, 253]],\n",
              "  \n",
              "          [[222, 226, 246],\n",
              "           [213, 220, 242],\n",
              "           [209, 219, 243],\n",
              "           ...,\n",
              "           [243, 250, 251],\n",
              "           [244, 249, 251],\n",
              "           [250, 250, 253]],\n",
              "  \n",
              "          ...,\n",
              "  \n",
              "          [[ 72,  73,  99],\n",
              "           [ 71,  74, 102],\n",
              "           [ 74,  78, 108],\n",
              "           ...,\n",
              "           [220, 208, 217],\n",
              "           [183, 168, 181],\n",
              "           [155, 141, 150]],\n",
              "  \n",
              "          [[ 72,  75, 104],\n",
              "           [ 76,  81, 111],\n",
              "           [ 84,  89, 122],\n",
              "           ...,\n",
              "           [222, 212, 220],\n",
              "           [187, 174, 192],\n",
              "           [145, 132, 149]],\n",
              "  \n",
              "          [[ 80,  85, 118],\n",
              "           [ 84,  90, 123],\n",
              "           [ 85,  92, 127],\n",
              "           ...,\n",
              "           [217, 207, 215],\n",
              "           [207, 194, 211],\n",
              "           [176, 164, 183]]],\n",
              "  \n",
              "  \n",
              "         [[[113, 130,  98],\n",
              "           [ 88, 105,  73],\n",
              "           [ 72,  89,  58],\n",
              "           ...,\n",
              "           [105, 124,  93],\n",
              "           [ 86, 106,  74],\n",
              "           [ 63,  82,  55]],\n",
              "  \n",
              "          [[ 95, 113,  80],\n",
              "           [ 78,  97,  64],\n",
              "           [ 62,  80,  49],\n",
              "           ...,\n",
              "           [103, 122,  84],\n",
              "           [ 89, 109,  70],\n",
              "           [ 65,  83,  49]],\n",
              "  \n",
              "          [[ 79,  97,  62],\n",
              "           [ 65,  82,  49],\n",
              "           [ 52,  67,  37],\n",
              "           ...,\n",
              "           [ 65,  79,  52],\n",
              "           [ 62,  79,  51],\n",
              "           [ 49,  64,  38]],\n",
              "  \n",
              "          ...,\n",
              "  \n",
              "          [[121, 102,  86],\n",
              "           [127, 108,  96],\n",
              "           [139, 121, 111],\n",
              "           ...,\n",
              "           [ 80, 100,  71],\n",
              "           [ 75,  95,  68],\n",
              "           [ 66,  85,  62]],\n",
              "  \n",
              "          [[170, 145, 131],\n",
              "           [167, 145, 132],\n",
              "           [159, 140, 128],\n",
              "           ...,\n",
              "           [100, 113,  84],\n",
              "           [ 89, 103,  77],\n",
              "           [ 73,  87,  64]],\n",
              "  \n",
              "          [[168, 150, 135],\n",
              "           [170, 152, 137],\n",
              "           [173, 156, 141],\n",
              "           ...,\n",
              "           [118, 123,  96],\n",
              "           [ 99, 106,  80],\n",
              "           [ 84,  92,  67]]],\n",
              "  \n",
              "  \n",
              "         [[[ 61,  90, 120],\n",
              "           [ 61,  89, 119],\n",
              "           [ 67,  96, 125],\n",
              "           ...,\n",
              "           [ 70,  93, 124],\n",
              "           [ 64,  87, 118],\n",
              "           [ 64,  88, 119]],\n",
              "  \n",
              "          [[ 67,  97, 127],\n",
              "           [ 78, 108, 138],\n",
              "           [ 80, 109, 139],\n",
              "           ...,\n",
              "           [ 95, 113, 142],\n",
              "           [ 83, 101, 129],\n",
              "           [ 83, 102, 130]],\n",
              "  \n",
              "          [[ 64,  93, 123],\n",
              "           [ 66,  95, 125],\n",
              "           [ 61,  90, 120],\n",
              "           ...,\n",
              "           [120, 134, 160],\n",
              "           [109, 123, 150],\n",
              "           [112, 126, 152]],\n",
              "  \n",
              "          ...,\n",
              "  \n",
              "          [[ 84,  87,  87],\n",
              "           [ 67,  59,  38],\n",
              "           [ 84,  78,  33],\n",
              "           ...,\n",
              "           [204, 167, 160],\n",
              "           [235, 202, 192],\n",
              "           [236, 206, 193]],\n",
              "  \n",
              "          [[ 72,  64,  54],\n",
              "           [ 70,  54,  30],\n",
              "           [ 84,  79,  40],\n",
              "           ...,\n",
              "           [199, 157, 152],\n",
              "           [190, 150, 142],\n",
              "           [196, 161, 149]],\n",
              "  \n",
              "          [[ 72,  61,  47],\n",
              "           [ 76,  64,  35],\n",
              "           [ 77,  74,  37],\n",
              "           ...,\n",
              "           [227, 191, 189],\n",
              "           [155, 119, 115],\n",
              "           [134,  98,  89]]],\n",
              "  \n",
              "  \n",
              "         ...,\n",
              "  \n",
              "  \n",
              "         [[[ 24,  38,  31],\n",
              "           [ 24,  40,  31],\n",
              "           [ 22,  34,  28],\n",
              "           ...,\n",
              "           [ 56,  59,  55],\n",
              "           [ 35,  40,  37],\n",
              "           [ 25,  35,  32]],\n",
              "  \n",
              "          [[ 19,  29,  26],\n",
              "           [ 28,  45,  35],\n",
              "           [ 25,  40,  29],\n",
              "           ...,\n",
              "           [ 55,  57,  58],\n",
              "           [ 38,  42,  44],\n",
              "           [ 36,  44,  39]],\n",
              "  \n",
              "          [[ 23,  38,  28],\n",
              "           [ 31,  51,  35],\n",
              "           [ 29,  50,  32],\n",
              "           ...,\n",
              "           [ 33,  41,  36],\n",
              "           [ 33,  37,  41],\n",
              "           [ 42,  49,  44]],\n",
              "  \n",
              "          ...,\n",
              "  \n",
              "          [[ 39,  73,  29],\n",
              "           [ 47,  95,  25],\n",
              "           [ 61, 104,  44],\n",
              "           ...,\n",
              "           [ 41,  79,  35],\n",
              "           [ 71, 103,  72],\n",
              "           [ 54,  93,  53]],\n",
              "  \n",
              "          [[ 39,  72,  34],\n",
              "           [ 40,  91,  18],\n",
              "           [ 51,  96,  33],\n",
              "           ...,\n",
              "           [ 33,  70,  24],\n",
              "           [ 67, 100,  62],\n",
              "           [ 61, 101,  55]],\n",
              "  \n",
              "          [[ 48,  89,  33],\n",
              "           [ 37,  83,  17],\n",
              "           [ 46,  91,  24],\n",
              "           ...,\n",
              "           [ 33,  66,  20],\n",
              "           [ 65,  95,  54],\n",
              "           [ 60,  94,  54]]],\n",
              "  \n",
              "  \n",
              "         [[[ 86,  90,  80],\n",
              "           [ 93,  90,  75],\n",
              "           [ 28,  25,  21],\n",
              "           ...,\n",
              "           [ 73,  52,  36],\n",
              "           [ 67,  49,  39],\n",
              "           [ 92,  71,  61]],\n",
              "  \n",
              "          [[ 82,  86,  80],\n",
              "           [ 43,  44,  41],\n",
              "           [ 17,  17,  18],\n",
              "           ...,\n",
              "           [ 65,  42,  28],\n",
              "           [ 34,  23,  16],\n",
              "           [ 56,  41,  33]],\n",
              "  \n",
              "          [[ 64,  66,  60],\n",
              "           [ 25,  27,  26],\n",
              "           [ 39,  39,  39],\n",
              "           ...,\n",
              "           [ 54,  37,  24],\n",
              "           [ 34,  25,  19],\n",
              "           [ 40,  31,  22]],\n",
              "  \n",
              "          ...,\n",
              "  \n",
              "          [[ 43,  43,  39],\n",
              "           [ 87,  82,  70],\n",
              "           [112, 105,  91],\n",
              "           ...,\n",
              "           [130, 130, 123],\n",
              "           [128, 126, 121],\n",
              "           [119, 121, 119]],\n",
              "  \n",
              "          [[ 44,  42,  35],\n",
              "           [ 79,  74,  62],\n",
              "           [ 99,  95,  82],\n",
              "           ...,\n",
              "           [135, 133, 123],\n",
              "           [130, 127, 119],\n",
              "           [121, 120, 114]],\n",
              "  \n",
              "          [[ 85,  82,  70],\n",
              "           [ 97,  91,  77],\n",
              "           [ 90,  88,  76],\n",
              "           ...,\n",
              "           [132, 128, 119],\n",
              "           [129, 124, 115],\n",
              "           [120, 117, 109]]],\n",
              "  \n",
              "  \n",
              "         [[[246, 246, 242],\n",
              "           [240, 238, 232],\n",
              "           [214, 212, 199],\n",
              "           ...,\n",
              "           [ 74,  32,  35],\n",
              "           [ 77,  34,  37],\n",
              "           [ 81,  34,  35]],\n",
              "  \n",
              "          [[210, 205, 196],\n",
              "           [243, 240, 230],\n",
              "           [229, 225, 214],\n",
              "           ...,\n",
              "           [ 75,  33,  35],\n",
              "           [ 79,  35,  38],\n",
              "           [ 83,  34,  36]],\n",
              "  \n",
              "          [[144, 134, 112],\n",
              "           [175, 163, 144],\n",
              "           [158, 144, 130],\n",
              "           ...,\n",
              "           [ 74,  33,  35],\n",
              "           [ 79,  35,  38],\n",
              "           [ 82,  33,  36]],\n",
              "  \n",
              "          ...,\n",
              "  \n",
              "          [[198, 190, 176],\n",
              "           [111, 111,  66],\n",
              "           [ 58,  55,  27],\n",
              "           ...,\n",
              "           [ 62,  81,  41],\n",
              "           [ 72, 100,  41],\n",
              "           [ 80, 107,  49]],\n",
              "  \n",
              "          [[167, 160, 144],\n",
              "           [ 62,  64,  27],\n",
              "           [ 85,  85,  68],\n",
              "           ...,\n",
              "           [ 92, 126,  58],\n",
              "           [143, 183, 104],\n",
              "           [160, 199, 118]],\n",
              "  \n",
              "          [[115, 108,  94],\n",
              "           [ 42,  37,  21],\n",
              "           [139, 136, 127],\n",
              "           ...,\n",
              "           [139, 172, 114],\n",
              "           [167, 204, 141],\n",
              "           [146, 182, 118]]]], dtype=uint8), array([[49],\n",
              "         [33],\n",
              "         [72],\n",
              "         ...,\n",
              "         [51],\n",
              "         [42],\n",
              "         [70]])))"
            ]
          },
          "metadata": {},
          "execution_count": 2
        }
      ],
      "source": [
        "tf.keras.datasets.cifar100.load_data(label_mode=\"fine\")"
      ]
    },
    {
      "cell_type": "code",
      "execution_count": 3,
      "metadata": {
        "id": "aQNIWLcsOHJg"
      },
      "outputs": [],
      "source": [
        "(x_train, y_train), (x_test, y_test) = keras.datasets.cifar100.load_data()"
      ]
    },
    {
      "cell_type": "code",
      "execution_count": 4,
      "metadata": {
        "colab": {
          "base_uri": "https://localhost:8080/"
        },
        "id": "Jp0ELRH3OHJk",
        "outputId": "20a54e2c-07f2-4e50-e43a-bb63d03739f2"
      },
      "outputs": [
        {
          "output_type": "stream",
          "name": "stdout",
          "text": [
            "(50000, 32, 32, 3)\n",
            "(50000, 1)\n",
            "(10000, 32, 32, 3)\n",
            "(10000, 1)\n"
          ]
        }
      ],
      "source": [
        "print(x_train.shape,\n",
        "y_train.shape,\n",
        "x_test.shape,\n",
        "y_test.shape,\n",
        "sep = '\\n')"
      ]
    },
    {
      "cell_type": "code",
      "execution_count": 5,
      "metadata": {
        "colab": {
          "base_uri": "https://localhost:8080/",
          "height": 268
        },
        "id": "bVKbJv9iOHJm",
        "outputId": "76fe39ca-ac84-439d-cd0c-15cb17de105c"
      },
      "outputs": [
        {
          "output_type": "display_data",
          "data": {
            "text/plain": [
              "<Figure size 432x288 with 9 Axes>"
            ],
            "image/png": "[encoded data removed]"
          },
          "metadata": {
            "needs_background": "light"
          }
        }
      ],
      "source": [
        "for i in range(1, 10):\n",
        "    plt.subplot(3, 3, i)\n",
        "    plt.imshow(x_train[i])\n",
        " \n",
        "plt.show()"
      ]
    },
    {
      "cell_type": "code",
      "execution_count": 6,
      "metadata": {
        "id": "HAJc1qphOHJo"
      },
      "outputs": [],
      "source": [
        "x_train = np.array(x_train, dtype=\"float\") / 255.0\n",
        "x_test = np.array(x_test, dtype=\"float\") / 255.0"
      ]
    },
    {
      "cell_type": "code",
      "execution_count": 7,
      "metadata": {
        "id": "P8nFzyW4OHJt"
      },
      "outputs": [],
      "source": [
        "y_train = keras.utils.to_categorical(y_train, 100)\n",
        "y_test = keras.utils.to_categorical(y_test, 100)"
      ]
    },
    {
      "cell_type": "markdown",
      "metadata": {
        "id": "ne7OBLid0NY-"
      },
      "source": [
        "### Задание 2. Создайте модель сверточной нейронной сети для решения поставленной задачи без использования BatchNormalization() и Dropout(). \n",
        "\n",
        "Имя данной модели: model_1"
      ]
    },
    {
      "cell_type": "code",
      "execution_count": 13,
      "metadata": {
        "id": "Gy0_n8G03kcU",
        "colab": {
          "base_uri": "https://localhost:8080/"
        },
        "outputId": "7d371095-ad82-4d2c-c1bb-5346da50f170"
      },
      "outputs": [
        {
          "output_type": "stream",
          "name": "stdout",
          "text": [
            "Model: \"sequential_1\"\n",
            "_________________________________________________________________\n",
            " Layer (type)                Output Shape              Param #   \n",
            "=================================================================\n",
            " conv2d_3 (Conv2D)           (None, 32, 32, 64)        1792      \n",
            "                                                                 \n",
            " max_pooling2d_3 (MaxPooling  (None, 16, 16, 64)       0         \n",
            " 2D)                                                             \n",
            "                                                                 \n",
            " conv2d_4 (Conv2D)           (None, 16, 16, 128)       73856     \n",
            "                                                                 \n",
            " max_pooling2d_4 (MaxPooling  (None, 8, 8, 128)        0         \n",
            " 2D)                                                             \n",
            "                                                                 \n",
            " conv2d_5 (Conv2D)           (None, 8, 8, 256)         295168    \n",
            "                                                                 \n",
            " max_pooling2d_5 (MaxPooling  (None, 4, 4, 256)        0         \n",
            " 2D)                                                             \n",
            "                                                                 \n",
            " flatten_1 (Flatten)         (None, 4096)              0         \n",
            "                                                                 \n",
            " dense_2 (Dense)             (None, 512)               2097664   \n",
            "                                                                 \n",
            " dense_3 (Dense)             (None, 100)               51300     \n",
            "                                                                 \n",
            "=================================================================\n",
            "Total params: 2,519,780\n",
            "Trainable params: 2,519,780\n",
            "Non-trainable params: 0\n",
            "_________________________________________________________________\n"
          ]
        }
      ],
      "source": [
        "model_1 = keras.Sequential([\n",
        "    Conv2D(64, (3, 3), padding='same', activation='relu', input_shape=(32, 32, 3)),\n",
        "    MaxPooling2D((2, 2), strides=2),\n",
        "    Conv2D(128, (3, 3), padding='same', activation='relu'),\n",
        "    MaxPooling2D((2, 2), strides=2),\n",
        "    Conv2D(256, (3, 3), padding='same', activation='relu'),\n",
        "    MaxPooling2D((2, 2), strides=2),\n",
        "    Flatten(),\n",
        "    Dense(512, activation='relu'),\n",
        "    Dense(100,  activation='softmax')\n",
        "])\n",
        "\n",
        "model_1.summary()"
      ]
    },
    {
      "cell_type": "markdown",
      "metadata": {
        "id": "69zrqqaA5kOd"
      },
      "source": [
        "Обучите созданную модель"
      ]
    },
    {
      "cell_type": "code",
      "execution_count": 14,
      "metadata": {
        "id": "6uBAnPDU5s5I",
        "colab": {
          "base_uri": "https://localhost:8080/"
        },
        "outputId": "1c3cf2b8-9f36-46e2-e19c-0d2ce91229bd"
      },
      "outputs": [
        {
          "output_type": "stream",
          "name": "stdout",
          "text": [
            "Epoch 1/30\n",
            "25/25 [==============================] - 5s 163ms/step - loss: 4.3099 - accuracy: 0.0517 - val_loss: 3.9443 - val_accuracy: 0.1031\n",
            "Epoch 2/30\n",
            "25/25 [==============================] - 3s 134ms/step - loss: 3.7181 - accuracy: 0.1446 - val_loss: 3.5202 - val_accuracy: 0.1774\n",
            "Epoch 3/30\n",
            "25/25 [==============================] - 3s 136ms/step - loss: 3.3842 - accuracy: 0.2017 - val_loss: 3.3341 - val_accuracy: 0.2108\n",
            "Epoch 4/30\n",
            "25/25 [==============================] - 4s 152ms/step - loss: 3.1470 - accuracy: 0.2473 - val_loss: 3.1433 - val_accuracy: 0.2552\n",
            "Epoch 5/30\n",
            "25/25 [==============================] - 4s 142ms/step - loss: 2.9419 - accuracy: 0.2829 - val_loss: 2.9650 - val_accuracy: 0.2846\n",
            "Epoch 6/30\n",
            "25/25 [==============================] - 3s 136ms/step - loss: 2.7637 - accuracy: 0.3202 - val_loss: 2.8398 - val_accuracy: 0.3064\n",
            "Epoch 7/30\n",
            "25/25 [==============================] - 3s 136ms/step - loss: 2.6324 - accuracy: 0.3476 - val_loss: 2.7451 - val_accuracy: 0.3301\n",
            "Epoch 8/30\n",
            "25/25 [==============================] - 3s 138ms/step - loss: 2.5061 - accuracy: 0.3728 - val_loss: 2.6779 - val_accuracy: 0.3380\n",
            "Epoch 9/30\n",
            "25/25 [==============================] - 4s 144ms/step - loss: 2.4150 - accuracy: 0.3915 - val_loss: 2.6011 - val_accuracy: 0.3589\n",
            "Epoch 10/30\n",
            "25/25 [==============================] - 4s 147ms/step - loss: 2.2842 - accuracy: 0.4183 - val_loss: 2.5471 - val_accuracy: 0.3668\n",
            "Epoch 11/30\n",
            "25/25 [==============================] - 4s 154ms/step - loss: 2.1888 - accuracy: 0.4407 - val_loss: 2.5494 - val_accuracy: 0.3713\n",
            "Epoch 12/30\n",
            "25/25 [==============================] - 4s 150ms/step - loss: 2.0894 - accuracy: 0.4638 - val_loss: 2.4818 - val_accuracy: 0.3817\n",
            "Epoch 13/30\n",
            "25/25 [==============================] - 3s 141ms/step - loss: 2.0096 - accuracy: 0.4800 - val_loss: 2.5003 - val_accuracy: 0.3837\n",
            "Epoch 14/30\n",
            "25/25 [==============================] - 3s 139ms/step - loss: 1.9292 - accuracy: 0.4982 - val_loss: 2.4369 - val_accuracy: 0.4005\n",
            "Epoch 15/30\n",
            "25/25 [==============================] - 3s 139ms/step - loss: 1.8242 - accuracy: 0.5222 - val_loss: 2.4199 - val_accuracy: 0.4040\n",
            "Epoch 16/30\n",
            "25/25 [==============================] - 3s 134ms/step - loss: 1.7453 - accuracy: 0.5412 - val_loss: 2.4175 - val_accuracy: 0.4041\n",
            "Epoch 17/30\n",
            "25/25 [==============================] - 3s 134ms/step - loss: 1.6820 - accuracy: 0.5554 - val_loss: 2.4421 - val_accuracy: 0.4106\n",
            "Epoch 18/30\n",
            "25/25 [==============================] - 3s 137ms/step - loss: 1.5874 - accuracy: 0.5797 - val_loss: 2.4347 - val_accuracy: 0.4119\n",
            "Epoch 19/30\n",
            "25/25 [==============================] - 3s 138ms/step - loss: 1.4853 - accuracy: 0.6026 - val_loss: 2.4005 - val_accuracy: 0.4218\n",
            "Epoch 20/30\n",
            "25/25 [==============================] - 3s 138ms/step - loss: 1.4045 - accuracy: 0.6240 - val_loss: 2.4543 - val_accuracy: 0.4181\n",
            "Epoch 21/30\n",
            "25/25 [==============================] - 3s 138ms/step - loss: 1.3306 - accuracy: 0.6414 - val_loss: 2.4563 - val_accuracy: 0.4241\n",
            "Epoch 22/30\n",
            "25/25 [==============================] - 3s 136ms/step - loss: 1.2448 - accuracy: 0.6625 - val_loss: 2.5028 - val_accuracy: 0.4178\n",
            "Epoch 23/30\n",
            "25/25 [==============================] - 3s 137ms/step - loss: 1.1862 - accuracy: 0.6755 - val_loss: 2.5590 - val_accuracy: 0.4152\n",
            "Epoch 24/30\n",
            "25/25 [==============================] - 3s 137ms/step - loss: 1.0829 - accuracy: 0.7062 - val_loss: 2.5980 - val_accuracy: 0.4218\n",
            "Epoch 25/30\n",
            "25/25 [==============================] - 3s 136ms/step - loss: 0.9859 - accuracy: 0.7336 - val_loss: 2.6681 - val_accuracy: 0.4130\n",
            "Epoch 26/30\n",
            "25/25 [==============================] - 3s 139ms/step - loss: 0.9313 - accuracy: 0.7467 - val_loss: 2.7175 - val_accuracy: 0.4157\n",
            "Epoch 27/30\n",
            "25/25 [==============================] - 3s 134ms/step - loss: 0.8545 - accuracy: 0.7663 - val_loss: 2.7868 - val_accuracy: 0.4126\n",
            "Epoch 28/30\n",
            "25/25 [==============================] - 3s 135ms/step - loss: 0.8067 - accuracy: 0.7767 - val_loss: 2.8052 - val_accuracy: 0.4199\n",
            "Epoch 29/30\n",
            "25/25 [==============================] - 3s 137ms/step - loss: 0.7176 - accuracy: 0.8047 - val_loss: 2.9452 - val_accuracy: 0.4127\n",
            "Epoch 30/30\n",
            "25/25 [==============================] - 3s 139ms/step - loss: 0.6378 - accuracy: 0.8289 - val_loss: 3.0414 - val_accuracy: 0.4123\n"
          ]
        }
      ],
      "source": [
        "EPOCH_1 = 30\n",
        "opt = Adam(learning_rate = 0.001)\n",
        "\n",
        "model_1.compile(optimizer=opt,\n",
        "             loss='categorical_crossentropy',\n",
        "             metrics=['accuracy'])\n",
        "\n",
        "model_1_history = model_1.fit(x_train, y_train, batch_size=2000, epochs=EPOCH_1, verbose=1, validation_data=(x_test,y_test))"
      ]
    },
    {
      "cell_type": "markdown",
      "metadata": {
        "id": "07x5ciPl0Njy"
      },
      "source": [
        "### Задание 3. Создайте модель сверточной нейронной сети для решения поставленной задачи с использованием BatchNormalization(). \n",
        "\n",
        "Имя данной модели: model_2"
      ]
    },
    {
      "cell_type": "code",
      "execution_count": 8,
      "metadata": {
        "id": "vy9H9gcJ3kzl",
        "colab": {
          "base_uri": "https://localhost:8080/"
        },
        "outputId": "a62accff-ef4f-4457-bf8e-6a33fe367b11"
      },
      "outputs": [
        {
          "output_type": "stream",
          "name": "stdout",
          "text": [
            "Model: \"sequential\"\n",
            "_________________________________________________________________\n",
            " Layer (type)                Output Shape              Param #   \n",
            "=================================================================\n",
            " conv2d (Conv2D)             (None, 32, 32, 64)        1792      \n",
            "                                                                 \n",
            " max_pooling2d (MaxPooling2D  (None, 16, 16, 64)       0         \n",
            " )                                                               \n",
            "                                                                 \n",
            " conv2d_1 (Conv2D)           (None, 16, 16, 128)       73856     \n",
            "                                                                 \n",
            " max_pooling2d_1 (MaxPooling  (None, 8, 8, 128)        0         \n",
            " 2D)                                                             \n",
            "                                                                 \n",
            " batch_normalization (BatchN  (None, 8, 8, 128)        512       \n",
            " ormalization)                                                   \n",
            "                                                                 \n",
            " conv2d_2 (Conv2D)           (None, 8, 8, 256)         295168    \n",
            "                                                                 \n",
            " max_pooling2d_2 (MaxPooling  (None, 4, 4, 256)        0         \n",
            " 2D)                                                             \n",
            "                                                                 \n",
            " flatten (Flatten)           (None, 4096)              0         \n",
            "                                                                 \n",
            " dense (Dense)               (None, 512)               2097664   \n",
            "                                                                 \n",
            " dense_1 (Dense)             (None, 100)               51300     \n",
            "                                                                 \n",
            "=================================================================\n",
            "Total params: 2,520,292\n",
            "Trainable params: 2,520,036\n",
            "Non-trainable params: 256\n",
            "_________________________________________________________________\n"
          ]
        }
      ],
      "source": [
        "model_2 = keras.Sequential([\n",
        "    Conv2D(64, (3, 3), padding='same', input_shape=(32, 32, 3)),\n",
        "    MaxPooling2D((2, 2), strides=2),\n",
        "    # BatchNormalization(),\n",
        "    Conv2D(128, (3, 3), padding='same'),\n",
        "    MaxPooling2D((2, 2), strides=2),\n",
        "    BatchNormalization(),\n",
        "    Conv2D(256, (3, 3), padding='same', activation='relu'),\n",
        "    MaxPooling2D((2, 2), strides=2),\n",
        "    # BatchNormalization(),\n",
        "    Flatten(),\n",
        "    # BatchNormalization(),\n",
        "    Dense(512, activation='relu'),\n",
        "    Dense(100,  activation='softmax')\n",
        "])\n",
        "\n",
        "model_2.summary()"
      ]
    },
    {
      "cell_type": "markdown",
      "metadata": {
        "id": "7vrswF436DNo"
      },
      "source": [
        "Обучите созданную модель"
      ]
    },
    {
      "cell_type": "code",
      "execution_count": 9,
      "metadata": {
        "id": "_P5Y3Pb7OHJ7"
      },
      "outputs": [],
      "source": [
        "batch_size = 2000\n",
        "EPOCH_2 = 30"
      ]
    },
    {
      "cell_type": "code",
      "execution_count": 10,
      "metadata": {
        "colab": {
          "base_uri": "https://localhost:8080/"
        },
        "id": "_NDj3F7BOHJ8",
        "outputId": "1027ae48-6041-4cd7-d1e1-c3fa7cc8d94a"
      },
      "outputs": [
        {
          "output_type": "stream",
          "name": "stdout",
          "text": [
            "Epoch 1/30\n",
            "25/25 [==============================] - 17s 157ms/step - loss: 4.2272 - accuracy: 0.0741 - val_loss: 4.5246 - val_accuracy: 0.0394\n",
            "Epoch 2/30\n",
            "25/25 [==============================] - 3s 137ms/step - loss: 3.6612 - accuracy: 0.1629 - val_loss: 4.4570 - val_accuracy: 0.0834\n",
            "Epoch 3/30\n",
            "25/25 [==============================] - 3s 140ms/step - loss: 3.3831 - accuracy: 0.2104 - val_loss: 4.3973 - val_accuracy: 0.1397\n",
            "Epoch 4/30\n",
            "25/25 [==============================] - 4s 142ms/step - loss: 3.1897 - accuracy: 0.2461 - val_loss: 4.3340 - val_accuracy: 0.1838\n",
            "Epoch 5/30\n",
            "25/25 [==============================] - 3s 140ms/step - loss: 3.0385 - accuracy: 0.2749 - val_loss: 4.2587 - val_accuracy: 0.2227\n",
            "Epoch 6/30\n",
            "25/25 [==============================] - 3s 139ms/step - loss: 2.9085 - accuracy: 0.3018 - val_loss: 4.1842 - val_accuracy: 0.2439\n",
            "Epoch 7/30\n",
            "25/25 [==============================] - 4s 141ms/step - loss: 2.7966 - accuracy: 0.3241 - val_loss: 4.1014 - val_accuracy: 0.2522\n",
            "Epoch 8/30\n",
            "25/25 [==============================] - 4s 143ms/step - loss: 2.6932 - accuracy: 0.3445 - val_loss: 4.0191 - val_accuracy: 0.2513\n",
            "Epoch 9/30\n",
            "25/25 [==============================] - 4s 143ms/step - loss: 2.6010 - accuracy: 0.3628 - val_loss: 3.9251 - val_accuracy: 0.2673\n",
            "Epoch 10/30\n",
            "25/25 [==============================] - 4s 141ms/step - loss: 2.5170 - accuracy: 0.3787 - val_loss: 3.8212 - val_accuracy: 0.2787\n",
            "Epoch 11/30\n",
            "25/25 [==============================] - 4s 142ms/step - loss: 2.4425 - accuracy: 0.3948 - val_loss: 3.7146 - val_accuracy: 0.2923\n",
            "Epoch 12/30\n",
            "25/25 [==============================] - 4s 145ms/step - loss: 2.3616 - accuracy: 0.4157 - val_loss: 3.5812 - val_accuracy: 0.3141\n",
            "Epoch 13/30\n",
            "25/25 [==============================] - 3s 138ms/step - loss: 2.2871 - accuracy: 0.4323 - val_loss: 3.4562 - val_accuracy: 0.3247\n",
            "Epoch 14/30\n",
            "25/25 [==============================] - 4s 143ms/step - loss: 2.2267 - accuracy: 0.4433 - val_loss: 3.3381 - val_accuracy: 0.3354\n",
            "Epoch 15/30\n",
            "25/25 [==============================] - 3s 137ms/step - loss: 2.1587 - accuracy: 0.4609 - val_loss: 3.1778 - val_accuracy: 0.3690\n",
            "Epoch 16/30\n",
            "25/25 [==============================] - 3s 140ms/step - loss: 2.0966 - accuracy: 0.4743 - val_loss: 3.0633 - val_accuracy: 0.3643\n",
            "Epoch 17/30\n",
            "25/25 [==============================] - 3s 140ms/step - loss: 2.0402 - accuracy: 0.4859 - val_loss: 2.9395 - val_accuracy: 0.3682\n",
            "Epoch 18/30\n",
            "25/25 [==============================] - 3s 138ms/step - loss: 1.9818 - accuracy: 0.5008 - val_loss: 2.8307 - val_accuracy: 0.3682\n",
            "Epoch 19/30\n",
            "25/25 [==============================] - 3s 137ms/step - loss: 1.9281 - accuracy: 0.5141 - val_loss: 2.6963 - val_accuracy: 0.3908\n",
            "Epoch 20/30\n",
            "25/25 [==============================] - 3s 137ms/step - loss: 1.8737 - accuracy: 0.5257 - val_loss: 2.6214 - val_accuracy: 0.3937\n",
            "Epoch 21/30\n",
            "25/25 [==============================] - 3s 140ms/step - loss: 1.8213 - accuracy: 0.5398 - val_loss: 2.5510 - val_accuracy: 0.3925\n",
            "Epoch 22/30\n",
            "25/25 [==============================] - 3s 137ms/step - loss: 1.7763 - accuracy: 0.5486 - val_loss: 2.4897 - val_accuracy: 0.4000\n",
            "Epoch 23/30\n",
            "25/25 [==============================] - 3s 137ms/step - loss: 1.7315 - accuracy: 0.5601 - val_loss: 2.4352 - val_accuracy: 0.4053\n",
            "Epoch 24/30\n",
            "25/25 [==============================] - 3s 139ms/step - loss: 1.6885 - accuracy: 0.5713 - val_loss: 2.3727 - val_accuracy: 0.4161\n",
            "Epoch 25/30\n",
            "25/25 [==============================] - 3s 140ms/step - loss: 1.6419 - accuracy: 0.5811 - val_loss: 2.3494 - val_accuracy: 0.4167\n",
            "Epoch 26/30\n",
            "25/25 [==============================] - 3s 140ms/step - loss: 1.6002 - accuracy: 0.5940 - val_loss: 2.3487 - val_accuracy: 0.4174\n",
            "Epoch 27/30\n",
            "25/25 [==============================] - 3s 137ms/step - loss: 1.5614 - accuracy: 0.6018 - val_loss: 2.3100 - val_accuracy: 0.4311\n",
            "Epoch 28/30\n",
            "25/25 [==============================] - 4s 142ms/step - loss: 1.5196 - accuracy: 0.6124 - val_loss: 2.3157 - val_accuracy: 0.4310\n",
            "Epoch 29/30\n",
            "25/25 [==============================] - 4s 141ms/step - loss: 1.4792 - accuracy: 0.6247 - val_loss: 2.3267 - val_accuracy: 0.4242\n",
            "Epoch 30/30\n",
            "25/25 [==============================] - 3s 138ms/step - loss: 1.4427 - accuracy: 0.6335 - val_loss: 2.3192 - val_accuracy: 0.4255\n"
          ]
        }
      ],
      "source": [
        "opt = Adam(learning_rate = 0.0001)\n",
        "model_2.compile(loss='categorical_crossentropy', optimizer=opt, metrics=['accuracy'])\n",
        "model_2_history = model_2.fit(x_train, y_train, batch_size=batch_size, epochs=EPOCH_2, verbose=1, validation_data=(x_test, y_test))"
      ]
    },
    {
      "cell_type": "markdown",
      "metadata": {
        "id": "386TvloP3lJF"
      },
      "source": [
        "### Задание 4. Создайте модель сверточной нейронной сети для решения поставленной задачи с использованием Dropout(). \n",
        "\n",
        "Имя данной модели: model_3"
      ]
    },
    {
      "cell_type": "code",
      "execution_count": 15,
      "metadata": {
        "id": "e-tkmz9d3lXx",
        "colab": {
          "base_uri": "https://localhost:8080/"
        },
        "outputId": "317bda6c-d839-4505-aa59-43881f4f26ef"
      },
      "outputs": [
        {
          "output_type": "stream",
          "name": "stdout",
          "text": [
            "Model: \"sequential_2\"\n",
            "_________________________________________________________________\n",
            " Layer (type)                Output Shape              Param #   \n",
            "=================================================================\n",
            " conv2d_6 (Conv2D)           (None, 32, 32, 64)        1792      \n",
            "                                                                 \n",
            " max_pooling2d_6 (MaxPooling  (None, 16, 16, 64)       0         \n",
            " 2D)                                                             \n",
            "                                                                 \n",
            " conv2d_7 (Conv2D)           (None, 16, 16, 128)       73856     \n",
            "                                                                 \n",
            " max_pooling2d_7 (MaxPooling  (None, 8, 8, 128)        0         \n",
            " 2D)                                                             \n",
            "                                                                 \n",
            " conv2d_8 (Conv2D)           (None, 8, 8, 256)         295168    \n",
            "                                                                 \n",
            " max_pooling2d_8 (MaxPooling  (None, 4, 4, 256)        0         \n",
            " 2D)                                                             \n",
            "                                                                 \n",
            " flatten_2 (Flatten)         (None, 4096)              0         \n",
            "                                                                 \n",
            " dropout (Dropout)           (None, 4096)              0         \n",
            "                                                                 \n",
            " dense_4 (Dense)             (None, 512)               2097664   \n",
            "                                                                 \n",
            " dropout_1 (Dropout)         (None, 512)               0         \n",
            "                                                                 \n",
            " dense_5 (Dense)             (None, 100)               51300     \n",
            "                                                                 \n",
            "=================================================================\n",
            "Total params: 2,519,780\n",
            "Trainable params: 2,519,780\n",
            "Non-trainable params: 0\n",
            "_________________________________________________________________\n"
          ]
        }
      ],
      "source": [
        "model_3 = keras.Sequential([\n",
        "    Conv2D(64, (3, 3), padding='same', activation='relu', input_shape=(32, 32, 3)),\n",
        "    MaxPooling2D((2, 2), strides=2),\n",
        "    Conv2D(128, (3, 3), padding='same', activation='relu'),\n",
        "    MaxPooling2D((2, 2), strides=2),\n",
        "    Conv2D(256, (3, 3), padding='same', activation='relu'),\n",
        "    MaxPooling2D((2, 2), strides=2),\n",
        "    Flatten(),\n",
        "    Dropout(0.5),\n",
        "    Dense(512, activation='relu'),\n",
        "    Dropout(0.25),\n",
        "    Dense(100,  activation='softmax')\n",
        "])\n",
        "\n",
        "model_3.summary()\n",
        "\n",
        "model_3.compile(loss='categorical_crossentropy', optimizer='adam', metrics=['accuracy'])"
      ]
    },
    {
      "cell_type": "markdown",
      "metadata": {
        "id": "hehT-6re6RXv"
      },
      "source": [
        "Обучите созданную модель"
      ]
    },
    {
      "cell_type": "code",
      "execution_count": 16,
      "metadata": {
        "id": "c6HNFpOE6RXw"
      },
      "outputs": [],
      "source": [
        "batch_size = 2000\n",
        "EPOCH_3 = 30"
      ]
    },
    {
      "cell_type": "code",
      "execution_count": 17,
      "metadata": {
        "colab": {
          "base_uri": "https://localhost:8080/"
        },
        "id": "TE-f9UyYOHKA",
        "outputId": "0709fe0a-bccb-40be-ce10-a9cd6d5b6620"
      },
      "outputs": [
        {
          "output_type": "stream",
          "name": "stdout",
          "text": [
            "Epoch 1/30\n",
            "25/25 [==============================] - 6s 163ms/step - loss: 4.3933 - accuracy: 0.0364 - val_loss: 4.0855 - val_accuracy: 0.0895\n",
            "Epoch 2/30\n",
            "25/25 [==============================] - 3s 139ms/step - loss: 3.8965 - accuracy: 0.1080 - val_loss: 3.5957 - val_accuracy: 0.1718\n",
            "Epoch 3/30\n",
            "25/25 [==============================] - 3s 135ms/step - loss: 3.5556 - accuracy: 0.1640 - val_loss: 3.3241 - val_accuracy: 0.2189\n",
            "Epoch 4/30\n",
            "25/25 [==============================] - 3s 138ms/step - loss: 3.3325 - accuracy: 0.2026 - val_loss: 3.1364 - val_accuracy: 0.2491\n",
            "Epoch 5/30\n",
            "25/25 [==============================] - 3s 140ms/step - loss: 3.1310 - accuracy: 0.2361 - val_loss: 2.9573 - val_accuracy: 0.2827\n",
            "Epoch 6/30\n",
            "25/25 [==============================] - 3s 139ms/step - loss: 3.0052 - accuracy: 0.2594 - val_loss: 2.8567 - val_accuracy: 0.3040\n",
            "Epoch 7/30\n",
            "25/25 [==============================] - 3s 136ms/step - loss: 2.8599 - accuracy: 0.2896 - val_loss: 2.7618 - val_accuracy: 0.3264\n",
            "Epoch 8/30\n",
            "25/25 [==============================] - 4s 144ms/step - loss: 2.7519 - accuracy: 0.3112 - val_loss: 2.6585 - val_accuracy: 0.3420\n",
            "Epoch 9/30\n",
            "25/25 [==============================] - 4s 146ms/step - loss: 2.6419 - accuracy: 0.3303 - val_loss: 2.5734 - val_accuracy: 0.3525\n",
            "Epoch 10/30\n",
            "25/25 [==============================] - 3s 136ms/step - loss: 2.5764 - accuracy: 0.3463 - val_loss: 2.5140 - val_accuracy: 0.3653\n",
            "Epoch 11/30\n",
            "25/25 [==============================] - 4s 142ms/step - loss: 2.4811 - accuracy: 0.3659 - val_loss: 2.5139 - val_accuracy: 0.3746\n",
            "Epoch 12/30\n",
            "25/25 [==============================] - 4s 144ms/step - loss: 2.4187 - accuracy: 0.3813 - val_loss: 2.4156 - val_accuracy: 0.3869\n",
            "Epoch 13/30\n",
            "25/25 [==============================] - 3s 137ms/step - loss: 2.3447 - accuracy: 0.3946 - val_loss: 2.4137 - val_accuracy: 0.3883\n",
            "Epoch 14/30\n",
            "25/25 [==============================] - 3s 139ms/step - loss: 2.3047 - accuracy: 0.4036 - val_loss: 2.3272 - val_accuracy: 0.4109\n",
            "Epoch 15/30\n",
            "25/25 [==============================] - 4s 143ms/step - loss: 2.2222 - accuracy: 0.4192 - val_loss: 2.3080 - val_accuracy: 0.4150\n",
            "Epoch 16/30\n",
            "25/25 [==============================] - 3s 135ms/step - loss: 2.1742 - accuracy: 0.4324 - val_loss: 2.2775 - val_accuracy: 0.4202\n",
            "Epoch 17/30\n",
            "25/25 [==============================] - 3s 139ms/step - loss: 2.1175 - accuracy: 0.4426 - val_loss: 2.2523 - val_accuracy: 0.4267\n",
            "Epoch 18/30\n",
            "25/25 [==============================] - 3s 139ms/step - loss: 2.0591 - accuracy: 0.4553 - val_loss: 2.2266 - val_accuracy: 0.4292\n",
            "Epoch 19/30\n",
            "25/25 [==============================] - 3s 136ms/step - loss: 2.0148 - accuracy: 0.4665 - val_loss: 2.2152 - val_accuracy: 0.4354\n",
            "Epoch 20/30\n",
            "25/25 [==============================] - 3s 135ms/step - loss: 1.9712 - accuracy: 0.4759 - val_loss: 2.2002 - val_accuracy: 0.4411\n",
            "Epoch 21/30\n",
            "25/25 [==============================] - 3s 135ms/step - loss: 1.9241 - accuracy: 0.4874 - val_loss: 2.1935 - val_accuracy: 0.4384\n",
            "Epoch 22/30\n",
            "25/25 [==============================] - 4s 141ms/step - loss: 1.8796 - accuracy: 0.4927 - val_loss: 2.1517 - val_accuracy: 0.4526\n",
            "Epoch 23/30\n",
            "25/25 [==============================] - 3s 140ms/step - loss: 1.8241 - accuracy: 0.5039 - val_loss: 2.1459 - val_accuracy: 0.4546\n",
            "Epoch 24/30\n",
            "25/25 [==============================] - 3s 136ms/step - loss: 1.7867 - accuracy: 0.5161 - val_loss: 2.1278 - val_accuracy: 0.4590\n",
            "Epoch 25/30\n",
            "25/25 [==============================] - 3s 138ms/step - loss: 1.7468 - accuracy: 0.5208 - val_loss: 2.1228 - val_accuracy: 0.4585\n",
            "Epoch 26/30\n",
            "25/25 [==============================] - 3s 139ms/step - loss: 1.6990 - accuracy: 0.5340 - val_loss: 2.0916 - val_accuracy: 0.4683\n",
            "Epoch 27/30\n",
            "25/25 [==============================] - 3s 139ms/step - loss: 1.6599 - accuracy: 0.5428 - val_loss: 2.1346 - val_accuracy: 0.4550\n",
            "Epoch 28/30\n",
            "25/25 [==============================] - 3s 136ms/step - loss: 1.6310 - accuracy: 0.5522 - val_loss: 2.0800 - val_accuracy: 0.4697\n",
            "Epoch 29/30\n",
            "25/25 [==============================] - 3s 138ms/step - loss: 1.5872 - accuracy: 0.5592 - val_loss: 2.0846 - val_accuracy: 0.4717\n",
            "Epoch 30/30\n",
            "25/25 [==============================] - 3s 139ms/step - loss: 1.5289 - accuracy: 0.5752 - val_loss: 2.0614 - val_accuracy: 0.4755\n"
          ]
        }
      ],
      "source": [
        "model_3_history = model_3.fit(x_train, y_train, batch_size=batch_size, epochs=EPOCH_3, verbose=1, validation_data=(x_test, y_test))"
      ]
    },
    {
      "cell_type": "markdown",
      "metadata": {
        "id": "qz2qhKtu7Jgf"
      },
      "source": [
        "### Задание 5. Создайте модель сверточной нейронной сети для решения поставленной задачи с использованием Dropout() и BatchNormalization().\n",
        "\n",
        "См. рекомендации [здесь](https://stackoverflow.com/questions/39691902/ordering-of-batch-normalization-and-dropout) и [здесь](https://www.kaggle.com/code/ryanholbrook/dropout-and-batch-normalization/)\n",
        "\n",
        "Имя данной модели: model_4"
      ]
    },
    {
      "cell_type": "code",
      "execution_count": 18,
      "metadata": {
        "id": "dVuNM8lI7Jgo",
        "colab": {
          "base_uri": "https://localhost:8080/"
        },
        "outputId": "d787b647-07bf-45b8-ff5a-4c64ddb9aebb"
      },
      "outputs": [
        {
          "output_type": "stream",
          "name": "stdout",
          "text": [
            "Model: \"sequential_3\"\n",
            "_________________________________________________________________\n",
            " Layer (type)                Output Shape              Param #   \n",
            "=================================================================\n",
            " conv2d_9 (Conv2D)           (None, 32, 32, 64)        1792      \n",
            "                                                                 \n",
            " max_pooling2d_9 (MaxPooling  (None, 16, 16, 64)       0         \n",
            " 2D)                                                             \n",
            "                                                                 \n",
            " conv2d_10 (Conv2D)          (None, 16, 16, 128)       73856     \n",
            "                                                                 \n",
            " max_pooling2d_10 (MaxPoolin  (None, 8, 8, 128)        0         \n",
            " g2D)                                                            \n",
            "                                                                 \n",
            " batch_normalization_1 (Batc  (None, 8, 8, 128)        512       \n",
            " hNormalization)                                                 \n",
            "                                                                 \n",
            " conv2d_11 (Conv2D)          (None, 8, 8, 256)         295168    \n",
            "                                                                 \n",
            " max_pooling2d_11 (MaxPoolin  (None, 4, 4, 256)        0         \n",
            " g2D)                                                            \n",
            "                                                                 \n",
            " flatten_3 (Flatten)         (None, 4096)              0         \n",
            "                                                                 \n",
            " dropout_2 (Dropout)         (None, 4096)              0         \n",
            "                                                                 \n",
            " dense_6 (Dense)             (None, 512)               2097664   \n",
            "                                                                 \n",
            " dropout_3 (Dropout)         (None, 512)               0         \n",
            "                                                                 \n",
            " dense_7 (Dense)             (None, 100)               51300     \n",
            "                                                                 \n",
            "=================================================================\n",
            "Total params: 2,520,292\n",
            "Trainable params: 2,520,036\n",
            "Non-trainable params: 256\n",
            "_________________________________________________________________\n"
          ]
        }
      ],
      "source": [
        "model_4 = keras.Sequential([\n",
        "    Conv2D(64, (3, 3), padding='same', input_shape=(32, 32, 3)),\n",
        "    MaxPooling2D((2, 2), strides=2),\n",
        "    Conv2D(128, (3, 3), padding='same'),\n",
        "    MaxPooling2D((2, 2), strides=2),\n",
        "    BatchNormalization(),\n",
        "    Conv2D(256, (3, 3), padding='same', activation='relu'),\n",
        "    MaxPooling2D((2, 2), strides=2),\n",
        "    Flatten(),\n",
        "    Dropout(0.5),\n",
        "    Dense(512, activation='relu'),\n",
        "    Dropout(0.25),\n",
        "    Dense(100,  activation='softmax')\n",
        "])\n",
        "\n",
        "opt = Adam(learning_rate = 0.001)\n",
        "\n",
        "model_4.summary()\n",
        "\n",
        "model_4.compile(loss='categorical_crossentropy', optimizer=opt, metrics=['accuracy'])"
      ]
    },
    {
      "cell_type": "markdown",
      "metadata": {
        "id": "nES6ENxq7Jgp"
      },
      "source": [
        "Обучите созданную модель"
      ]
    },
    {
      "cell_type": "code",
      "source": [
        "batch_size = 2000\n",
        "EPOCH_4 = 30"
      ],
      "metadata": {
        "id": "9Q_gXlP9mQnt"
      },
      "execution_count": 19,
      "outputs": []
    },
    {
      "cell_type": "code",
      "execution_count": 20,
      "metadata": {
        "id": "SWIPC22-7Jgp",
        "colab": {
          "base_uri": "https://localhost:8080/"
        },
        "outputId": "f2d51e37-beed-46bd-e54f-2dd59bfd48cd"
      },
      "outputs": [
        {
          "output_type": "stream",
          "name": "stdout",
          "text": [
            "Epoch 1/30\n",
            "25/25 [==============================] - 5s 165ms/step - loss: 4.4706 - accuracy: 0.0454 - val_loss: 4.5496 - val_accuracy: 0.0352\n",
            "Epoch 2/30\n",
            "25/25 [==============================] - 4s 140ms/step - loss: 3.9171 - accuracy: 0.1082 - val_loss: 4.4789 - val_accuracy: 0.0890\n",
            "Epoch 3/30\n",
            "25/25 [==============================] - 3s 140ms/step - loss: 3.5567 - accuracy: 0.1615 - val_loss: 4.4267 - val_accuracy: 0.1040\n",
            "Epoch 4/30\n",
            "25/25 [==============================] - 4s 141ms/step - loss: 3.3056 - accuracy: 0.2008 - val_loss: 4.3920 - val_accuracy: 0.1550\n",
            "Epoch 5/30\n",
            "25/25 [==============================] - 4s 141ms/step - loss: 3.1209 - accuracy: 0.2358 - val_loss: 4.3741 - val_accuracy: 0.1323\n",
            "Epoch 6/30\n",
            "25/25 [==============================] - 3s 139ms/step - loss: 2.9335 - accuracy: 0.2685 - val_loss: 4.3350 - val_accuracy: 0.1900\n",
            "Epoch 7/30\n",
            "25/25 [==============================] - 4s 141ms/step - loss: 2.7905 - accuracy: 0.2991 - val_loss: 4.2999 - val_accuracy: 0.1754\n",
            "Epoch 8/30\n",
            "25/25 [==============================] - 4s 141ms/step - loss: 2.6650 - accuracy: 0.3197 - val_loss: 4.2823 - val_accuracy: 0.1551\n",
            "Epoch 9/30\n",
            "25/25 [==============================] - 4s 141ms/step - loss: 2.5671 - accuracy: 0.3404 - val_loss: 4.1797 - val_accuracy: 0.2090\n",
            "Epoch 10/30\n",
            "25/25 [==============================] - 4s 141ms/step - loss: 2.4638 - accuracy: 0.3646 - val_loss: 4.1198 - val_accuracy: 0.2271\n",
            "Epoch 11/30\n",
            "25/25 [==============================] - 4s 141ms/step - loss: 2.3855 - accuracy: 0.3783 - val_loss: 4.0093 - val_accuracy: 0.2780\n",
            "Epoch 12/30\n",
            "25/25 [==============================] - 4s 141ms/step - loss: 2.3138 - accuracy: 0.3934 - val_loss: 3.9303 - val_accuracy: 0.3138\n",
            "Epoch 13/30\n",
            "25/25 [==============================] - 3s 140ms/step - loss: 2.2602 - accuracy: 0.4053 - val_loss: 3.8586 - val_accuracy: 0.2824\n",
            "Epoch 14/30\n",
            "25/25 [==============================] - 4s 141ms/step - loss: 2.2002 - accuracy: 0.4180 - val_loss: 3.6676 - val_accuracy: 0.3222\n",
            "Epoch 15/30\n",
            "25/25 [==============================] - 4s 141ms/step - loss: 2.1521 - accuracy: 0.4298 - val_loss: 3.5659 - val_accuracy: 0.3871\n",
            "Epoch 16/30\n",
            "25/25 [==============================] - 3s 138ms/step - loss: 2.0973 - accuracy: 0.4414 - val_loss: 3.4357 - val_accuracy: 0.3533\n",
            "Epoch 17/30\n",
            "25/25 [==============================] - 3s 138ms/step - loss: 2.0497 - accuracy: 0.4500 - val_loss: 3.2415 - val_accuracy: 0.4215\n",
            "Epoch 18/30\n",
            "25/25 [==============================] - 3s 140ms/step - loss: 2.0063 - accuracy: 0.4576 - val_loss: 3.0604 - val_accuracy: 0.4359\n",
            "Epoch 19/30\n",
            "25/25 [==============================] - 4s 142ms/step - loss: 1.9508 - accuracy: 0.4723 - val_loss: 2.7893 - val_accuracy: 0.4343\n",
            "Epoch 20/30\n",
            "25/25 [==============================] - 4s 141ms/step - loss: 1.9251 - accuracy: 0.4769 - val_loss: 2.6408 - val_accuracy: 0.4496\n",
            "Epoch 21/30\n",
            "25/25 [==============================] - 4s 144ms/step - loss: 1.8911 - accuracy: 0.4841 - val_loss: 2.5402 - val_accuracy: 0.4299\n",
            "Epoch 22/30\n",
            "25/25 [==============================] - 4s 157ms/step - loss: 1.8426 - accuracy: 0.4962 - val_loss: 2.4282 - val_accuracy: 0.4323\n",
            "Epoch 23/30\n",
            "25/25 [==============================] - 4s 144ms/step - loss: 1.8213 - accuracy: 0.5005 - val_loss: 2.1777 - val_accuracy: 0.4813\n",
            "Epoch 24/30\n",
            "25/25 [==============================] - 4s 144ms/step - loss: 1.7816 - accuracy: 0.5081 - val_loss: 2.1607 - val_accuracy: 0.4692\n",
            "Epoch 25/30\n",
            "25/25 [==============================] - 4s 144ms/step - loss: 1.7439 - accuracy: 0.5156 - val_loss: 2.2938 - val_accuracy: 0.4248\n",
            "Epoch 26/30\n",
            "25/25 [==============================] - 4s 145ms/step - loss: 1.7042 - accuracy: 0.5265 - val_loss: 2.0017 - val_accuracy: 0.4815\n",
            "Epoch 27/30\n",
            "25/25 [==============================] - 4s 141ms/step - loss: 1.6740 - accuracy: 0.5333 - val_loss: 1.9821 - val_accuracy: 0.4843\n",
            "Epoch 28/30\n",
            "25/25 [==============================] - 4s 145ms/step - loss: 1.6385 - accuracy: 0.5410 - val_loss: 1.9858 - val_accuracy: 0.4811\n",
            "Epoch 29/30\n",
            "25/25 [==============================] - 4s 144ms/step - loss: 1.6036 - accuracy: 0.5494 - val_loss: 2.4487 - val_accuracy: 0.3979\n",
            "Epoch 30/30\n",
            "25/25 [==============================] - 4s 144ms/step - loss: 1.5780 - accuracy: 0.5545 - val_loss: 2.1191 - val_accuracy: 0.4529\n"
          ]
        }
      ],
      "source": [
        "model_4_history = model_4.fit(x_train, y_train, batch_size=batch_size, epochs=EPOCH_4, verbose=1, validation_data=(x_test, y_test))"
      ]
    },
    {
      "cell_type": "markdown",
      "metadata": {
        "id": "Y7QF9bQh72eV"
      },
      "source": [
        "### Задание 5. Пойстройте график обучения для каждой модели. Сделайте выводы по каждому из них. Подведите итог и выделите наиболее удачную модель"
      ]
    },
    {
      "cell_type": "code",
      "execution_count": 11,
      "metadata": {
        "id": "HvqpPVoV72te"
      },
      "outputs": [],
      "source": [
        "def graph(his, EPOCH):\n",
        "    N = np.arange(0, EPOCH)\n",
        "    plt.style.use(\"ggplot\")\n",
        "    plt.figure()\n",
        "    plt.plot(N, his.history[\"loss\"], label=\"train_loss\")\n",
        "    plt.plot(N, his.history[\"val_loss\"], label=\"val_loss\")\n",
        "    plt.plot(N, his.history[\"accuracy\"], label=\"train_accuracy\")\n",
        "    plt.plot(N, his.history[\"val_accuracy\"], label=\"val_accuracy\")\n",
        "    plt.title(\"Training Loss and Accuracy (Simple NN)\")\n",
        "    plt.xlabel(\"Epoch #\")\n",
        "    plt.ylabel(\"Loss/Accuracy\")\n",
        "    plt.legend()"
      ]
    },
    {
      "cell_type": "code",
      "execution_count": 21,
      "metadata": {
        "colab": {
          "base_uri": "https://localhost:8080/",
          "height": 299
        },
        "id": "ZdVFwPY0OHKH",
        "outputId": "a3032148-f2a9-4d94-a2ad-108ea0099fc0"
      },
      "outputs": [
        {
          "output_type": "display_data",
          "data": {
            "text/plain": [
              "<Figure size 432x288 with 1 Axes>"
            ],
            "image/png": "[encoded data removed]"
          },
          "metadata": {}
        }
      ],
      "source": [
        "graph(model_1_history, EPOCH_1)"
      ]
    },
    {
      "cell_type": "code",
      "source": [
        "graph(model_2_history, EPOCH_2)"
      ],
      "metadata": {
        "colab": {
          "base_uri": "https://localhost:8080/",
          "height": 299
        },
        "id": "YNT6ZdaMu7xW",
        "outputId": "30539961-8d64-4719-f917-1bb18b95a111"
      },
      "execution_count": 22,
      "outputs": [
        {
          "output_type": "display_data",
          "data": {
            "text/plain": [
              "<Figure size 432x288 with 1 Axes>"
            ],
            "image/png": "[encoded data removed]"
          },
          "metadata": {}
        }
      ]
    },
    {
      "cell_type": "code",
      "source": [
        "graph(model_3_history, EPOCH_3)"
      ],
      "metadata": {
        "colab": {
          "base_uri": "https://localhost:8080/",
          "height": 299
        },
        "id": "ogAF78Qbu8_9",
        "outputId": "84eb4184-e2e0-4df0-b39e-784c370a8de5"
      },
      "execution_count": 23,
      "outputs": [
        {
          "output_type": "display_data",
          "data": {
            "text/plain": [
              "<Figure size 432x288 with 1 Axes>"
            ],
            "image/png": "[encoded data removed]"
          },
          "metadata": {}
        }
      ]
    },
    {
      "cell_type": "code",
      "source": [
        "graph(model_4_history, EPOCH_4)"
      ],
      "metadata": {
        "colab": {
          "base_uri": "https://localhost:8080/",
          "height": 299
        },
        "id": "MvuH2r9qu-BY",
        "outputId": "81d69f30-228d-4d67-a858-b98f97d6e5f4"
      },
      "execution_count": 24,
      "outputs": [
        {
          "output_type": "display_data",
          "data": {
            "text/plain": [
              "<Figure size 432x288 with 1 Axes>"
            ],
            "image/png": "[encoded data removed]"
          },
          "metadata": {}
        }
      ]
    },
    {
      "cell_type": "markdown",
      "metadata": {
        "id": "Ogg1lwqm9jKe"
      },
      "source": [
        "Ваши выводы"
      ]
    },
    {
      "cell_type": "markdown",
      "source": [
        "### При условии, что я оставляю практически неизменными все сверточные слои, то:\n",
        "\n",
        "### 1) У model_1 количество эпох (для норм. обучения) = 10, \n",
        "loss: 2.2842 - accuracy: 0.4183 - val_loss: 2.5471 - val_accuracy: 0.3668\n",
        "### 2) У model_2 и количество эпох (для норм. обучения) = 19,\n",
        "loss: 1.9281 - accuracy: 0.5141 - val_loss: 2.6963 - val_accuracy: 0.3908 \n",
        "### 3) У model_3 и количество эпох (для норм. обучения) = 25,\n",
        "loss: 1.7468 - accuracy: 0.5208 - val_loss: 2.1228 - val_accuracy: 0.4585\n",
        "### 4) У model_4 и количество эпох (для норм. обучения) = 22,\n",
        "loss: 1.8426 - accuracy: 0.4962 - val_loss: 2.4282 - val_accuracy: 0.4323\n"
      ],
      "metadata": {
        "id": "2CC6VACCv5g0"
      }
    },
    {
      "cell_type": "markdown",
      "metadata": {
        "id": "N9mdlVQc9jUb"
      },
      "source": [
        "Ваш итог"
      ]
    },
    {
      "cell_type": "markdown",
      "source": [
        "### Наиболее удачной является model_3, к которой применен только параметр dropout"
      ],
      "metadata": {
        "id": "n_ZQ_e-oxmIu"
      }
    }
  ],
  "metadata": {
    "colab": {
      "provenance": []
    },
    "kernelspec": {
      "display_name": "Python 3",
      "name": "python3"
    },
    "language_info": {
      "codemirror_mode": {
        "name": "ipython",
        "version": 3
      },
      "file_extension": ".py",
      "mimetype": "text/x-python",
      "name": "python",
      "nbconvert_exporter": "python",
      "pygments_lexer": "ipython3",
      "version": "3.11.2"
    },
    "accelerator": "GPU",
    "gpuClass": "standard"
  },
  "nbformat": 4,
  "nbformat_minor": 0
}