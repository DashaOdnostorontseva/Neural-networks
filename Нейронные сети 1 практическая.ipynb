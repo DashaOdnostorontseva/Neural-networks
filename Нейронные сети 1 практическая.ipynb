{
 "cells": [
  {
   "attachments": {},
   "cell_type": "markdown",
   "metadata": {},
   "source": [
    "Коньюнкция (обычная)"
   ]
  },
  {
   "attachments": {},
   "cell_type": "markdown",
   "metadata": {},
   "source": [
    "Задание №1\n",
    "Напишите функцию, которая присваивает w1 и w2 случайные веса"
   ]
  },
  {
   "cell_type": "code",
   "execution_count": null,
   "metadata": {},
   "outputs": [],
   "source": [
    "from random import randint\n",
    "w1 = randint(0,100)/100\n",
    "ц2 = randint(0,100)/100"
   ]
  },
  {
   "attachments": {},
   "cell_type": "markdown",
   "metadata": {},
   "source": [
    "Задание №2 Напишите функцию, которая делает проверку сразу всех примеров учебного набора с текущими весами"
   ]
  },
  {
   "attachments": {},
   "cell_type": "markdown",
   "metadata": {},
   "source": [
    "Задание №3 Со случайными стартовыми весами обучить нейрон дельта методом для следующих операций:\n",
    "* КОНЪЮНКЦИЯ\n",
    "* ДИЗЪЮНКЦИЯ\n",
    "* XOR\n",
    "* КОНЪЮНКЦИЯ ОТРИЦАНИЯ Х1 и Х2\n",
    "* КОНЪЮНКЦИЯ Х1 и ОТРИЦАНИЯ Х2"
   ]
  },
  {
   "attachments": {},
   "cell_type": "markdown",
   "metadata": {},
   "source": [
    "**Для конъюнкции**"
   ]
  },
  {
   "cell_type": "code",
   "execution_count": 159,
   "metadata": {},
   "outputs": [],
   "source": [
    "from random import randint\n",
    "speed = 0.3\n",
    "\n",
    "w_k = [randint(0,100)/100, randint(0,100)/100]\n",
    "\n",
    "x_train_k = [[1, 1], [1, 0], [0, 1], [0,0]]\n",
    "y_train_k = [1, 0, 0, 0]"
   ]
  },
  {
   "cell_type": "code",
   "execution_count": 160,
   "metadata": {},
   "outputs": [],
   "source": [
    "def predict_k(x_train_k):\n",
    "    summator_k = x_train_k[0] * w_k[0] + x_train_k[1] * w_k[1]\n",
    "    act_k = 1 if summator_k >= 1 else 0\n",
    "    return act_k"
   ]
  },
  {
   "cell_type": "code",
   "execution_count": 161,
   "metadata": {},
   "outputs": [],
   "source": [
    "def train_k(x_train_k, y_train_k, w_k):\n",
    "    for i in range(len(x_train_k)):\n",
    "        error_k = y_train_k[i] - predict_k([x_train_k[i][0], x_train_k[i][1]])\n",
    "        print(w_k, error_k)\n",
    "        if error_k != 0:\n",
    "            w_k[0] = w_k[0] + error_k * x_train_k[i][0] * speed\n",
    "            w_k[1] = w_k[1] + error_k * x_train_k[i][1] * speed"
   ]
  },
  {
   "cell_type": "code",
   "execution_count": 163,
   "metadata": {},
   "outputs": [
    {
     "name": "stdout",
     "output_type": "stream",
     "text": [
      "[0.73, 0.99] 0\n",
      "[0.73, 0.99] 0\n",
      "[0.73, 0.99] 0\n",
      "[0.73, 0.99] 0\n"
     ]
    }
   ],
   "source": [
    "train_k(x_train_k, y_train_k, w_k)"
   ]
  },
  {
   "cell_type": "code",
   "execution_count": 164,
   "metadata": {},
   "outputs": [
    {
     "name": "stdout",
     "output_type": "stream",
     "text": [
      "1\n",
      "0\n",
      "0\n",
      "0\n"
     ]
    }
   ],
   "source": [
    "print(predict_k([1,1]))\n",
    "print(predict_k([1,0]))\n",
    "print(predict_k([0,1]))\n",
    "print(predict_k([0,0]))"
   ]
  },
  {
   "attachments": {},
   "cell_type": "markdown",
   "metadata": {},
   "source": [
    "**Для дизъюнкции**"
   ]
  },
  {
   "cell_type": "code",
   "execution_count": 165,
   "metadata": {},
   "outputs": [],
   "source": [
    "w_d = [randint(0,100)/100, randint(0,100)/100]\n",
    "x_train_d = [[1, 1], [1, 0], [0, 1], [0,0]]\n",
    "y_train_d = [1, 1, 1, 0]"
   ]
  },
  {
   "cell_type": "code",
   "execution_count": 166,
   "metadata": {},
   "outputs": [],
   "source": [
    "def predict_d(x_train_d):\n",
    "    summator_d = x_train_d[0] * w_d[0] + x_train_d[1] * w_d[1]\n",
    "    act_d = 1 if summator_d >= 1 else 0\n",
    "    return act_d"
   ]
  },
  {
   "cell_type": "code",
   "execution_count": 167,
   "metadata": {},
   "outputs": [],
   "source": [
    "def train_d(x_train_d, y_train_d, w_d):\n",
    "    for i in range(len(x_train_d)):\n",
    "        error_d = y_train_d[i] - predict_d([x_train_d[i][0], x_train_d[i][1]])\n",
    "        print(w_d, error_d)\n",
    "        if error_d != 0:\n",
    "            w_d[0] = w_d[0] + error_d * x_train_d[i][0] * speed\n",
    "            w_d[1] = w_d[1] + error_d * x_train_d[i][1] * speed"
   ]
  },
  {
   "cell_type": "code",
   "execution_count": 172,
   "metadata": {},
   "outputs": [
    {
     "name": "stdout",
     "output_type": "stream",
     "text": [
      "[1.18, 1.1600000000000001] 0\n",
      "[1.18, 1.1600000000000001] 0\n",
      "[1.18, 1.1600000000000001] 0\n",
      "[1.18, 1.1600000000000001] 0\n"
     ]
    }
   ],
   "source": [
    "train_d(x_train_d, y_train_d, w_d)"
   ]
  },
  {
   "cell_type": "code",
   "execution_count": 173,
   "metadata": {},
   "outputs": [
    {
     "name": "stdout",
     "output_type": "stream",
     "text": [
      "1\n",
      "1\n",
      "1\n",
      "0\n"
     ]
    }
   ],
   "source": [
    "print(predict_d([1,1]))\n",
    "print(predict_d([1,0]))\n",
    "print(predict_d([0,1]))\n",
    "print(predict_d([0,0]))"
   ]
  },
  {
   "attachments": {},
   "cell_type": "markdown",
   "metadata": {},
   "source": [
    "**Импликация**"
   ]
  },
  {
   "cell_type": "code",
   "execution_count": 44,
   "metadata": {},
   "outputs": [],
   "source": [
    "from random import randint\n",
    "speed = 0.3\n",
    "\n",
    "w = [randint(0,100)/100, randint(0,100)/100, randint(0,100)/100]\n",
    "\n",
    "x_train = [[1, 1, 1], [1, 0, 1], [0, 1, 1], [0, 0, 1]]\n",
    "y_train = [1, 0, 1, 1]"
   ]
  },
  {
   "cell_type": "code",
   "execution_count": 34,
   "metadata": {},
   "outputs": [],
   "source": [
    "def predict(x_train):\n",
    "    summator = x_train[0] * w[0] + x_train[1] * w[1] + x_train[2] * w[2]   \n",
    "    act = 1 if summator >= 1 else 0\n",
    "    return act"
   ]
  },
  {
   "cell_type": "code",
   "execution_count": 45,
   "metadata": {},
   "outputs": [],
   "source": [
    "def train(x_train, y_train, w):\n",
    "    for i in range(len(x_train)):\n",
    "        error = y_train[i] - predict(x_train[i])\n",
    "        print(w, error)\n",
    "        if error != 0:\n",
    "            w[0] = w[0] + error * x_train[i][0] * speed\n",
    "            w[1] = w[1] + error * x_train[i][1] * speed\n",
    "            w[2] = w[2] + error * x_train[i][2] * speed"
   ]
  },
  {
   "cell_type": "code",
   "execution_count": 51,
   "metadata": {},
   "outputs": [
    {
     "name": "stdout",
     "output_type": "stream",
     "text": [
      "[-0.29, 0.8500000000000001, 1.23] 0\n",
      "[-0.29, 0.8500000000000001, 1.23] 0\n",
      "[-0.29, 0.8500000000000001, 1.23] 0\n",
      "[-0.29, 0.8500000000000001, 1.23] 0\n"
     ]
    }
   ],
   "source": [
    "train(x_train, y_train, w)"
   ]
  },
  {
   "cell_type": "code",
   "execution_count": 52,
   "metadata": {},
   "outputs": [
    {
     "name": "stdout",
     "output_type": "stream",
     "text": [
      "1\n",
      "0\n",
      "1\n",
      "1\n"
     ]
    }
   ],
   "source": [
    "print(predict([1, 1, 1]))\n",
    "print(predict([1, 0, 1]))\n",
    "print(predict([0, 1, 1]))\n",
    "print(predict([0, 0, 1]))"
   ]
  },
  {
   "attachments": {},
   "cell_type": "markdown",
   "metadata": {},
   "source": [
    "**ДЛЯ КОНЬЮНКЦИИ (с отрицанием 2го элемента)**"
   ]
  },
  {
   "cell_type": "code",
   "execution_count": 199,
   "metadata": {},
   "outputs": [],
   "source": [
    "from random import randint\n",
    "speed = 0.3\n",
    "\n",
    "w_k1 = [randint(0,100)/100, randint(0,100)/100]\n",
    "\n",
    "x_train = [[1, 1], [1, 0], [0, 1], [0,0]]\n",
    "y_train_k1 = [0, 1, 0, 0]"
   ]
  },
  {
   "cell_type": "code",
   "execution_count": 200,
   "metadata": {},
   "outputs": [],
   "source": [
    "def predict_k1(x_train):\n",
    "    summator_k1 = x_train[0] * w_k1[0] + x_train[1] * w_k1[1]\n",
    "    act_k1 = 1 if summator_k1 >= 1 else 0\n",
    "    return act_k1"
   ]
  },
  {
   "cell_type": "code",
   "execution_count": 201,
   "metadata": {},
   "outputs": [],
   "source": [
    "def train_k1(x_train, y_train_k1, w_k1):\n",
    "    for i in range(len(x_train)):\n",
    "        error_k1 = y_train_k1[i] - predict_k1([x_train[i][0], x_train[i][1]])\n",
    "        print(w_k1, error_k1)\n",
    "        if error_k1 != 0:\n",
    "            w_k1[0] = w_k1[0] + error_k1 * x_train[i][0] * speed\n",
    "            w_k1[1] = w_k1[1] + error_k1 * x_train[i][1] * speed"
   ]
  },
  {
   "cell_type": "code",
   "execution_count": 207,
   "metadata": {},
   "outputs": [
    {
     "name": "stdout",
     "output_type": "stream",
     "text": [
      "[1.0, -0.09999999999999998] 0\n",
      "[1.0, -0.09999999999999998] 0\n",
      "[1.0, -0.09999999999999998] 0\n",
      "[1.0, -0.09999999999999998] 0\n"
     ]
    }
   ],
   "source": [
    "train_k1(x_train, y_train_k1, w_k1)"
   ]
  },
  {
   "cell_type": "code",
   "execution_count": 208,
   "metadata": {},
   "outputs": [
    {
     "name": "stdout",
     "output_type": "stream",
     "text": [
      "0\n",
      "1\n",
      "0\n",
      "0\n"
     ]
    }
   ],
   "source": [
    "print(predict_k1([1,1]))\n",
    "print(predict_k1([1,0]))\n",
    "print(predict_k1([0,1]))\n",
    "print(predict_k1([0,0]))"
   ]
  },
  {
   "attachments": {},
   "cell_type": "markdown",
   "metadata": {},
   "source": [
    "**ДЛЯ КОНЪЮНКЦИИ (с отрицанием 1го элемента)**"
   ]
  },
  {
   "cell_type": "code",
   "execution_count": 214,
   "metadata": {},
   "outputs": [],
   "source": [
    "w_k2 = [randint(0,100)/100, randint(0,100)/100]\n",
    "\n",
    "y_train_k2 = [0, 0, 1, 0]"
   ]
  },
  {
   "cell_type": "code",
   "execution_count": 215,
   "metadata": {},
   "outputs": [],
   "source": [
    "def predict_k2(x_train):\n",
    "    summator_k2 = x_train[0] * w_k2[0] + x_train[1] * w_k2[1]\n",
    "    act_k2 = 1 if summator_k2 >= 1 else 0\n",
    "    return act_k2"
   ]
  },
  {
   "cell_type": "code",
   "execution_count": 216,
   "metadata": {},
   "outputs": [],
   "source": [
    "def train_k2(x_train, y_train_k2, w_k2):\n",
    "    for i in range(len(x_train)):\n",
    "        error_k2 = y_train_k2[i] - predict_k2([x_train[i][0], x_train[i][1]])\n",
    "        print(w_k2, error_k2)\n",
    "        if error_k2 != 0:\n",
    "            w_k2[0] = w_k2[0] + error_k2 * x_train[i][0] * speed\n",
    "            w_k2[1] = w_k2[1] + error_k2 * x_train[i][1] * speed"
   ]
  },
  {
   "cell_type": "code",
   "execution_count": 223,
   "metadata": {},
   "outputs": [
    {
     "name": "stdout",
     "output_type": "stream",
     "text": [
      "[-0.16999999999999998, 1.06] 0\n",
      "[-0.16999999999999998, 1.06] 0\n",
      "[-0.16999999999999998, 1.06] 0\n",
      "[-0.16999999999999998, 1.06] 0\n"
     ]
    }
   ],
   "source": [
    "train_k2(x_train, y_train_k2, w_k2)"
   ]
  },
  {
   "cell_type": "code",
   "execution_count": 224,
   "metadata": {},
   "outputs": [
    {
     "name": "stdout",
     "output_type": "stream",
     "text": [
      "0\n",
      "0\n",
      "1\n",
      "0\n"
     ]
    }
   ],
   "source": [
    "print(predict_k2([1,1]))\n",
    "print(predict_k2([1,0]))\n",
    "print(predict_k2([0,1]))\n",
    "print(predict_k2([0,0]))"
   ]
  },
  {
   "attachments": {},
   "cell_type": "markdown",
   "metadata": {},
   "source": [
    "**ДЛЯ ДИЗЪЮНКЦИИ (для XOR)**"
   ]
  },
  {
   "cell_type": "code",
   "execution_count": 225,
   "metadata": {},
   "outputs": [],
   "source": [
    "w_d1 = [randint(0,100)/100, randint(0,100)/100]\n",
    "\n",
    "y_train_d1 = [1, 1, 1, 0]"
   ]
  },
  {
   "cell_type": "code",
   "execution_count": 226,
   "metadata": {},
   "outputs": [],
   "source": [
    "def predict_d1(x_train):\n",
    "    summator_d1 = x_train[0] * w_d1[0] + x_train[1] * w_d1[1]\n",
    "    act_d1 = 1 if summator_d1 >= 1 else 0\n",
    "    return act_d1"
   ]
  },
  {
   "cell_type": "code",
   "execution_count": 227,
   "metadata": {},
   "outputs": [],
   "source": [
    "def train_d1(x_train, y_train_d1, w_d1):\n",
    "    for i in range(len(x_train)):\n",
    "        error_d1 = y_train_d1[i] - predict_d1([x_train[i][0], x_train[i][1]])\n",
    "        print(w_d1, error_d1)\n",
    "        if error_d1 != 0:\n",
    "            w_d1[0] = w_d1[0] + error_d1 * x_train[i][0] * speed\n",
    "            w_d1[1] = w_d1[1] + error_d1 * x_train[i][1] * speed"
   ]
  },
  {
   "cell_type": "code",
   "execution_count": 233,
   "metadata": {},
   "outputs": [
    {
     "name": "stdout",
     "output_type": "stream",
     "text": [
      "[1.21, 1.29] 0\n",
      "[1.21, 1.29] 0\n",
      "[1.21, 1.29] 0\n",
      "[1.21, 1.29] 0\n"
     ]
    }
   ],
   "source": [
    "train_d1(x_train, y_train_d1, w_d1)"
   ]
  },
  {
   "cell_type": "code",
   "execution_count": 234,
   "metadata": {},
   "outputs": [
    {
     "name": "stdout",
     "output_type": "stream",
     "text": [
      "1\n",
      "1\n",
      "1\n",
      "0\n"
     ]
    }
   ],
   "source": [
    "print(predict_d1([1,1]))\n",
    "print(predict_d1([1,0]))\n",
    "print(predict_d1([0,1]))\n",
    "print(predict_d1([0,0]))"
   ]
  },
  {
   "attachments": {},
   "cell_type": "markdown",
   "metadata": {},
   "source": [
    "**XOR**"
   ]
  },
  {
   "cell_type": "code",
   "execution_count": 235,
   "metadata": {},
   "outputs": [],
   "source": [
    "def predict_xor(x_train):\n",
    "    return predict_d1([predict_k1(x_train), predict_k2(x_train)])"
   ]
  },
  {
   "cell_type": "code",
   "execution_count": 236,
   "metadata": {},
   "outputs": [
    {
     "name": "stdout",
     "output_type": "stream",
     "text": [
      "0\n",
      "1\n",
      "1\n",
      "0\n"
     ]
    }
   ],
   "source": [
    "print(predict_xor([1,1]))\n",
    "print(predict_xor([1,0]))\n",
    "print(predict_xor([0,1]))\n",
    "print(predict_xor([0,0]))"
   ]
  },
  {
   "cell_type": "code",
   "execution_count": 239,
   "metadata": {},
   "outputs": [
    {
     "name": "stdout",
     "output_type": "stream",
     "text": [
      "Стартовые веса: \n",
      "1.0\n",
      "-0.09999999999999998\n",
      "-0.16999999999999998\n",
      "1.06\n",
      "1.21\n",
      "1.29\n"
     ]
    }
   ],
   "source": [
    "print('Стартовые веса: ', w_k1[0], w_k1[1], w_k2[0], w_k2[1], w_d1[0], w_d1[1], sep = '\\n')"
   ]
  }
 ],
 "metadata": {
  "kernelspec": {
   "display_name": "Python 3",
   "language": "python",
   "name": "python3"
  },
  "language_info": {
   "codemirror_mode": {
    "name": "ipython",
    "version": 3
   },
   "file_extension": ".py",
   "mimetype": "text/x-python",
   "name": "python",
   "nbconvert_exporter": "python",
   "pygments_lexer": "ipython3",
   "version": "3.10.4"
  },
  "orig_nbformat": 4,
  "vscode": {
   "interpreter": {
    "hash": "9d28376b052a10b99dfbba71064da8bfb80fb5c0723e41f9bcf21cc7b2ec3364"
   }
  }
 },
 "nbformat": 4,
 "nbformat_minor": 2
}
